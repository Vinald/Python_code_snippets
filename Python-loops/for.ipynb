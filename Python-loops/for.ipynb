{
 "cells": [
  {
   "cell_type": "markdown",
   "metadata": {},
   "source": [
    "## For loops"
   ]
  },
  {
   "cell_type": "code",
   "execution_count": 2,
   "metadata": {},
   "outputs": [
    {
     "name": "stdout",
     "output_type": "stream",
     "text": [
      "0\n",
      "1\n",
      "2\n",
      "3\n",
      "4\n",
      "5\n"
     ]
    }
   ],
   "source": [
    "for i in range(6):\n",
    "    print(i)"
   ]
  },
  {
   "cell_type": "code",
   "execution_count": 3,
   "metadata": {},
   "outputs": [
    {
     "name": "stdout",
     "output_type": "stream",
     "text": [
      "012345"
     ]
    }
   ],
   "source": [
    "for i in range(6):\n",
    "    print(i, end='')"
   ]
  },
  {
   "cell_type": "code",
   "execution_count": 5,
   "metadata": {},
   "outputs": [
    {
     "name": "stdout",
     "output_type": "stream",
     "text": [
      "\n",
      "@\n",
      "@@\n",
      "@@@\n",
      "@@@@\n",
      "@@@@@\n",
      "@@@@@@\n",
      "@@@@@@@\n",
      "@@@@@@@@\n",
      "@@@@@@@@@\n"
     ]
    }
   ],
   "source": [
    "for i in range(10):\n",
    "    for j in range(i):\n",
    "        print('@', end='')\n",
    "    print()"
   ]
  },
  {
   "cell_type": "code",
   "execution_count": 8,
   "metadata": {},
   "outputs": [
    {
     "name": "stdout",
     "output_type": "stream",
     "text": [
      "language:  python\n",
      "language:  java\n",
      "language:  c\n",
      "language:  C++\n",
      "language:  javascript\n",
      "language:  html\n",
      "language:  flask\n",
      "\n"
     ]
    }
   ],
   "source": [
    "programming_language = ['python', 'java', 'c', 'C++', 'javascript', 'html', 'flask']\n",
    "\n",
    "for language in programming_language:\n",
    "    print('language: ', language)\n",
    "print()"
   ]
  },
  {
   "cell_type": "code",
   "execution_count": 9,
   "metadata": {},
   "outputs": [
    {
     "name": "stdout",
     "output_type": "stream",
     "text": [
      "language (0, 'python')\n",
      "language (1, 'java')\n",
      "language (2, 'c')\n",
      "language (3, 'C++')\n",
      "language (4, 'javascript')\n",
      "language (5, 'html')\n",
      "language (6, 'flask')\n"
     ]
    }
   ],
   "source": [
    "for lang in enumerate(programming_language):\n",
    "    print('language', lang)"
   ]
  },
  {
   "cell_type": "code",
   "execution_count": 10,
   "metadata": {},
   "outputs": [
    {
     "name": "stdout",
     "output_type": "stream",
     "text": [
      "Samuel\n",
      "Samuel\n",
      "Samuel\n",
      "Samuel\n",
      "Samuel\n",
      "Samuel\n",
      "Samuel\n"
     ]
    }
   ],
   "source": [
    "for _ in programming_language:\n",
    "    print('Samuel')"
   ]
  },
  {
   "cell_type": "code",
   "execution_count": 13,
   "metadata": {},
   "outputs": [
    {
     "name": "stdout",
     "output_type": "stream",
     "text": [
      "[0, 1, 4, 9, 16, 25, 36, 49, 64, 81, 100]\n"
     ]
    }
   ],
   "source": [
    "double = [i*i for i in range(11)]\n",
    "print(double)"
   ]
  },
  {
   "cell_type": "code",
   "execution_count": 15,
   "metadata": {},
   "outputs": [
    {
     "name": "stdout",
     "output_type": "stream",
     "text": [
      "@@@@\n",
      "@@@@\n",
      "@@@@\n",
      "@@@@\n"
     ]
    }
   ],
   "source": [
    "rows = int(input('Enter the number of rows'))\n",
    "colums = int(input('Enter the number of columns'))\n",
    "symbol = input('Enter the symbol')\n",
    "\n",
    "# end='' prevents the cursor from moving to the next line\n",
    "for i in range(rows):\n",
    "    for j in range(colums):\n",
    "        print(symbol, end='') \n",
    "    print()"
   ]
  }
 ],
 "metadata": {
  "kernelspec": {
   "display_name": "allenv",
   "language": "python",
   "name": "python3"
  },
  "language_info": {
   "codemirror_mode": {
    "name": "ipython",
    "version": 3
   },
   "file_extension": ".py",
   "mimetype": "text/x-python",
   "name": "python",
   "nbconvert_exporter": "python",
   "pygments_lexer": "ipython3",
   "version": "3.11.6"
  }
 },
 "nbformat": 4,
 "nbformat_minor": 2
}
