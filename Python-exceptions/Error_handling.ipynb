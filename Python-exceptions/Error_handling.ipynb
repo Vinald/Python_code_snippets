{
 "cells": [
  {
   "cell_type": "code",
   "execution_count": 1,
   "metadata": {},
   "outputs": [
    {
     "name": "stdout",
     "output_type": "stream",
     "text": [
      "3\n"
     ]
    }
   ],
   "source": [
    "try:\n",
    "    age = int(input(\"Age: \"))\n",
    "    print(age)\n",
    "\n",
    "except ValueError:\n",
    "    print(\"Please enter a number\")"
   ]
  },
  {
   "cell_type": "code",
   "execution_count": 2,
   "metadata": {},
   "outputs": [
    {
     "name": "stdout",
     "output_type": "stream",
     "text": [
      "invalid literal for int() with base 10: 'u'\n",
      "enter integers only\n"
     ]
    }
   ],
   "source": [
    "try:\n",
    "    num = int(input('Enter the number to divide'))\n",
    "    dem = int(input('Enter the number to divide by'))\n",
    "    result = num / dem\n",
    "    print(result)\n",
    "\n",
    "except ZeroDivisionError as e:\n",
    "    print(e)\n",
    "    print('can not divide by zero!!!!')\n",
    "except ValueError as e:\n",
    "    print(e) \n",
    "    print('enter integers only')\n",
    "except Exception:\n",
    "    print('something went wrong')"
   ]
  },
  {
   "cell_type": "code",
   "execution_count": 3,
   "metadata": {},
   "outputs": [
    {
     "name": "stdout",
     "output_type": "stream",
     "text": [
      "3.3333333333333335\n",
      "done\n"
     ]
    }
   ],
   "source": [
    "try:\n",
    "    num = int(input('Enter the number to divide'))\n",
    "    dem = int(input('Enter the number to divide by'))\n",
    "    result = num / dem\n",
    "\n",
    "except ZeroDivisionError as e:\n",
    "    print(e)\n",
    "    print('division by zero')\n",
    "except ValueError as e:\n",
    "    print(e)\n",
    "    print('enter integers only')\n",
    "except Exception:\n",
    "    print('something went wrong')\n",
    "else:\n",
    "    print(result)\n",
    "finally:\n",
    "    print('done') "
   ]
  },
  {
   "cell_type": "code",
   "execution_count": null,
   "metadata": {},
   "outputs": [],
   "source": []
  }
 ],
 "metadata": {
  "kernelspec": {
   "display_name": "allenv",
   "language": "python",
   "name": "python3"
  },
  "language_info": {
   "codemirror_mode": {
    "name": "ipython",
    "version": 3
   },
   "file_extension": ".py",
   "mimetype": "text/x-python",
   "name": "python",
   "nbconvert_exporter": "python",
   "pygments_lexer": "ipython3",
   "version": "3.11.6"
  }
 },
 "nbformat": 4,
 "nbformat_minor": 2
}
