{
 "cells": [
  {
   "cell_type": "markdown",
   "metadata": {},
   "source": [
    "## ----------------- working with sets ----------------------"
   ]
  },
  {
   "cell_type": "code",
   "execution_count": 1,
   "metadata": {},
   "outputs": [
    {
     "name": "stdout",
     "output_type": "stream",
     "text": [
      "{0, 1, 2, 3, 4, 5, 6, 8, 9, 76}\n",
      "0\n",
      "1\n",
      "2\n",
      "3\n",
      "4\n",
      "5\n",
      "6\n",
      "8\n",
      "9\n",
      "76\n"
     ]
    }
   ],
   "source": [
    "numbers = {1, 2, 1, 3, 2, 1, 3, 4, 2, 3, 4, 6, 76, 6, 8, 5, 3, 2, 4, 8, 0, 9}\n",
    "print(numbers)\n",
    "for i in numbers:\n",
    "    print(i)"
   ]
  },
  {
   "cell_type": "code",
   "execution_count": 2,
   "metadata": {},
   "outputs": [
    {
     "name": "stdout",
     "output_type": "stream",
     "text": [
      "{'C++', 'javascript', 'c', 'flask', 'python', 'java', 'html'}\n",
      "\n"
     ]
    }
   ],
   "source": [
    "programming_language = ['python', 'java', 'c', 'C++',\n",
    "                        'javascript', 'html', 'html', 'c', 'flask']\n",
    "language_set = set(programming_language)\n",
    "print(language_set)\n",
    "print()\n"
   ]
  },
  {
   "cell_type": "code",
   "execution_count": 3,
   "metadata": {},
   "outputs": [
    {
     "name": "stdout",
     "output_type": "stream",
     "text": [
      "{'C++', 'javascript', 'c', 'flask', 'python', 'ruby', 'sql', 'java', 'django', 'html'}\n",
      "\n"
     ]
    }
   ],
   "source": [
    "# update\n",
    "language_set1 = {'ruby', 'python', 'java', 'sql', 'django'}\n",
    "language_set1.update(language_set)\n",
    "print(language_set1)"
   ]
  },
  {
   "cell_type": "code",
   "execution_count": 4,
   "metadata": {},
   "outputs": [
    {
     "name": "stdout",
     "output_type": "stream",
     "text": [
      "{'C++', 'javascript', 'c', 'flask', 'python', 'java', 'html'}\n",
      "\n"
     ]
    }
   ],
   "source": [
    "# union\n",
    "language_set.union(language_set1)\n",
    "print(language_set)"
   ]
  },
  {
   "cell_type": "code",
   "execution_count": 5,
   "metadata": {},
   "outputs": [
    {
     "name": "stdout",
     "output_type": "stream",
     "text": [
      "set()\n",
      "{'sql', 'django', 'ruby'}\n"
     ]
    }
   ],
   "source": [
    "# difference\n",
    "print(language_set.difference(language_set1))\n",
    "print(language_set1.difference(language_set))"
   ]
  },
  {
   "cell_type": "code",
   "execution_count": 7,
   "metadata": {},
   "outputs": [
    {
     "name": "stdout",
     "output_type": "stream",
     "text": [
      "{'C++', 'javascript', 'c', 'flask', 'python', 'java', 'html'}\n"
     ]
    }
   ],
   "source": [
    "# intersection\n",
    "print(language_set.intersection(language_set1))"
   ]
  },
  {
   "cell_type": "code",
   "execution_count": 1,
   "metadata": {},
   "outputs": [
    {
     "name": "stdout",
     "output_type": "stream",
     "text": [
      "{'elephant', 'cow', 'goat', 'cat', 'dog', 'tiger', 'bull'}\n"
     ]
    }
   ],
   "source": [
    "animal = {'goat', 'cow', 'bull', 'dog', 'cat'}\n",
    "animal1 = {'elephant', 'tiger', 'cat', 'dog'}\n",
    "\n",
    "# union\n",
    "animal2 = animal1.union(animal)\n",
    "print(animal2)"
   ]
  },
  {
   "cell_type": "code",
   "execution_count": 2,
   "metadata": {},
   "outputs": [
    {
     "name": "stdout",
     "output_type": "stream",
     "text": [
      "{'cat', 'dog'}\n"
     ]
    }
   ],
   "source": [
    "# intersection\n",
    "animal3 = animal.intersection(animal1)\n",
    "print(animal3)"
   ]
  },
  {
   "cell_type": "code",
   "execution_count": 3,
   "metadata": {},
   "outputs": [
    {
     "name": "stdout",
     "output_type": "stream",
     "text": [
      "None\n",
      "\n"
     ]
    }
   ],
   "source": [
    "# update\n",
    "update_set = animal.update(animal1)\n",
    "print(update_set)\n",
    "print()"
   ]
  },
  {
   "cell_type": "code",
   "execution_count": 4,
   "metadata": {},
   "outputs": [
    {
     "name": "stdout",
     "output_type": "stream",
     "text": [
      "{'cat', 'elephant', 'dog', 'tiger', 'cow', 'bull', 'goat'}\n"
     ]
    }
   ],
   "source": [
    "# make a copy\n",
    "new_animals = animal.copy()\n",
    "print(new_animals)"
   ]
  },
  {
   "cell_type": "code",
   "execution_count": 5,
   "metadata": {},
   "outputs": [
    {
     "name": "stdout",
     "output_type": "stream",
     "text": [
      "set()\n",
      "<class 'set'>\n"
     ]
    }
   ],
   "source": [
    "# empty set \n",
    "empty_set = set()\n",
    "print(empty_set)\n",
    "print(type(empty_set))"
   ]
  },
  {
   "cell_type": "code",
   "execution_count": 6,
   "metadata": {},
   "outputs": [
    {
     "name": "stdout",
     "output_type": "stream",
     "text": [
      "{'python'}\n"
     ]
    }
   ],
   "source": [
    "# add\n",
    "empty_set.add('python')\n",
    "print(empty_set)"
   ]
  },
  {
   "cell_type": "code",
   "execution_count": 7,
   "metadata": {},
   "outputs": [
    {
     "name": "stdout",
     "output_type": "stream",
     "text": [
      "frozenset({1, 2, 3, 4, 5})\n"
     ]
    }
   ],
   "source": [
    "# frozen set\n",
    "a = frozenset([1, 2, 3, 4, 5])\n",
    "print(a)"
   ]
  },
  {
   "cell_type": "code",
   "execution_count": null,
   "metadata": {},
   "outputs": [],
   "source": []
  }
 ],
 "metadata": {
  "kernelspec": {
   "display_name": "allenv",
   "language": "python",
   "name": "python3"
  },
  "language_info": {
   "codemirror_mode": {
    "name": "ipython",
    "version": 3
   },
   "file_extension": ".py",
   "mimetype": "text/x-python",
   "name": "python",
   "nbconvert_exporter": "python",
   "pygments_lexer": "ipython3",
   "version": "3.11.6"
  }
 },
 "nbformat": 4,
 "nbformat_minor": 2
}
