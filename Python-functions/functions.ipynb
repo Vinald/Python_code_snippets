{
 "cells": [
  {
   "cell_type": "code",
   "execution_count": 4,
   "metadata": {},
   "outputs": [],
   "source": [
    "def firstFunct():\n",
    "    print('First function called')"
   ]
  },
  {
   "cell_type": "code",
   "execution_count": 6,
   "metadata": {},
   "outputs": [
    {
     "name": "stdout",
     "output_type": "stream",
     "text": [
      "First function called\n"
     ]
    }
   ],
   "source": [
    "firstFunct()"
   ]
  },
  {
   "cell_type": "code",
   "execution_count": 11,
   "metadata": {},
   "outputs": [],
   "source": [
    "def printName(name: str) -> None:\n",
    "    '''print the name of the user'''\n",
    "    print(f'My name is {name}')"
   ]
  },
  {
   "cell_type": "code",
   "execution_count": 12,
   "metadata": {},
   "outputs": [
    {
     "name": "stdout",
     "output_type": "stream",
     "text": [
      "Help on function printName in module __main__:\n",
      "\n",
      "printName(name: str) -> None\n",
      "    print the name of the user\n",
      "\n"
     ]
    }
   ],
   "source": [
    "help(printName)"
   ]
  },
  {
   "cell_type": "code",
   "execution_count": 13,
   "metadata": {},
   "outputs": [
    {
     "name": "stdout",
     "output_type": "stream",
     "text": [
      "My name is Samuel\n"
     ]
    }
   ],
   "source": [
    "printName('Samuel')"
   ]
  },
  {
   "cell_type": "code",
   "execution_count": 21,
   "metadata": {},
   "outputs": [],
   "source": [
    "def adding(*args: float) -> int:\n",
    "    return sum(args)"
   ]
  },
  {
   "cell_type": "code",
   "execution_count": 22,
   "metadata": {},
   "outputs": [
    {
     "data": {
      "text/plain": [
       "10"
      ]
     },
     "execution_count": 22,
     "metadata": {},
     "output_type": "execute_result"
    }
   ],
   "source": [
    "adding(1, 3, 4, 2)"
   ]
  },
  {
   "cell_type": "code",
   "execution_count": 1,
   "metadata": {},
   "outputs": [
    {
     "name": "stdout",
     "output_type": "stream",
     "text": [
      "[2, 4, 6, 8, 10, 12]\n"
     ]
    }
   ],
   "source": [
    "# double the items in a list and return a list \n",
    "def double(numbers):\n",
    "    result = []\n",
    "    for number in numbers:\n",
    "        result.append(number * 2)\n",
    "    return result\n",
    "\n",
    "\n",
    "numbers = [1, 2, 3, 4, 5, 6]\n",
    "num = double(numbers)\n",
    "print(num)"
   ]
  },
  {
   "cell_type": "code",
   "execution_count": 2,
   "metadata": {},
   "outputs": [
    {
     "name": "stdout",
     "output_type": "stream",
     "text": [
      "Total: 1002.0\n"
     ]
    }
   ],
   "source": [
    "# bill calculation\n",
    "def food_and_tips(food_amount: float, tip: float) -> float:\n",
    "    food = food_amount\n",
    "    tiping = tip\n",
    "    total = food + tiping\n",
    "    return total\n",
    "\n",
    "\n",
    "food_amount = float(input('Enter the amount of the food: \\n>>> '))\n",
    "tip = float(input('Enter the tip: \\n>>> '))\n",
    "total = food_and_tips(food_amount, tip)\n",
    "print('Total:', total)"
   ]
  },
  {
   "cell_type": "code",
   "execution_count": 3,
   "metadata": {},
   "outputs": [
    {
     "name": "stdout",
     "output_type": "stream",
     "text": [
      "45\n"
     ]
    }
   ],
   "source": [
    "def summing(*args: int) -> int:\n",
    "    adding = 0\n",
    "    for number in args:\n",
    "        adding += number\n",
    "    return adding\n",
    "\n",
    "\n",
    "num1 = summing(1, 2, 3, 4, 5, 6, 7, 8, 9, 0)\n",
    "print(num1)\n"
   ]
  },
  {
   "cell_type": "code",
   "execution_count": 4,
   "metadata": {},
   "outputs": [
    {
     "name": "stdout",
     "output_type": "stream",
     "text": [
      "name O samuel vinald\n",
      "age 30\n",
      "\n",
      "name O samuel vinald\n",
      "age 30\n",
      "city Kampala\n",
      "\n",
      "title Mr.\n",
      "name J K samuel\n",
      "age 30\n",
      "city Kampala\n",
      "country Uganda\n",
      "\n"
     ]
    }
   ],
   "source": [
    "def hello(**kwargs):\n",
    "    for key, value in kwargs.items():\n",
    "        print(key, value)\n",
    "\n",
    "\n",
    "hello(name=\"O samuel vinald\", age=30,)\n",
    "print('\\n', end='')\n",
    "\n",
    "hello(name=\"O samuel vinald\", age=30, city=\"Kampala\")\n",
    "print('\\n', end='')\n",
    "\n",
    "hello(title=\"Mr.\", name=\"J K samuel\", age=30, city=\"Kampala\", country=\"Uganda\")\n",
    "print('\\n', end='')"
   ]
  },
  {
   "cell_type": "code",
   "execution_count": 5,
   "metadata": {},
   "outputs": [
    {
     "name": "stdout",
     "output_type": "stream",
     "text": [
      "name samuel\n",
      "age 18\n",
      "None\n"
     ]
    }
   ],
   "source": [
    "def names(**kwargs):\n",
    "    for key, value in kwargs.items():\n",
    "        print(key, value)\n",
    "\n",
    "\n",
    "name = names(name='samuel', age=18)\n",
    "print(name)\n"
   ]
  },
  {
   "cell_type": "code",
   "execution_count": 6,
   "metadata": {},
   "outputs": [
    {
     "name": "stdout",
     "output_type": "stream",
     "text": [
      "4\n"
     ]
    }
   ],
   "source": [
    "# word court function\n",
    "def count_words(name):\n",
    "    name1 = name.split()\n",
    "    return len(name1)\n",
    "\n",
    "name = 'okiror samuel vinald name'\n",
    "name1 = count_words(name)\n",
    "print(name1)"
   ]
  },
  {
   "cell_type": "code",
   "execution_count": 1,
   "metadata": {},
   "outputs": [
    {
     "name": "stdout",
     "output_type": "stream",
     "text": [
      "0.7986002367424148\n"
     ]
    }
   ],
   "source": [
    "import random\n",
    "\n",
    "# random() function returns a random float number between 0.0 to 1.0\n",
    "print(random.random())"
   ]
  },
  {
   "cell_type": "code",
   "execution_count": 2,
   "metadata": {},
   "outputs": [
    {
     "name": "stdout",
     "output_type": "stream",
     "text": [
      "10\n"
     ]
    }
   ],
   "source": [
    "# randint() function returns a random integer between the specified integers\n",
    "print(random.randint(1, 10))"
   ]
  },
  {
   "cell_type": "code",
   "execution_count": 3,
   "metadata": {},
   "outputs": [
    {
     "name": "stdout",
     "output_type": "stream",
     "text": [
      "9\n"
     ]
    }
   ],
   "source": [
    "# choice() function returns a random item from a list, tuple, or string\n",
    "print(random.choice([1, 2, 3, 4, 5, 6, 7, 8, 9, 0]))"
   ]
  },
  {
   "cell_type": "code",
   "execution_count": 4,
   "metadata": {},
   "outputs": [
    {
     "name": "stdout",
     "output_type": "stream",
     "text": [
      "[9, 1, 6, 8, 0, 7, 2, 4, 3, 5]\n"
     ]
    }
   ],
   "source": [
    "# shuffle() function shuffles the elements of a list\n",
    "numbers = [1, 2, 3, 4, 5, 6, 7, 8, 9, 0]\n",
    "random.shuffle(numbers)\n",
    "print(numbers)"
   ]
  },
  {
   "cell_type": "code",
   "execution_count": 5,
   "metadata": {},
   "outputs": [
    {
     "name": "stdout",
     "output_type": "stream",
     "text": [
      "[4, 8, 1, 0, 5]\n",
      "[8, 7, 2]\n",
      "[5, 9]\n",
      "[2]\n"
     ]
    }
   ],
   "source": [
    "# sample() function returns a list with a random selection of a specified number of items from a list\n",
    "print(random.sample(numbers, 5))\n",
    "print(random.sample(numbers, 3))\n",
    "print(random.sample(numbers, 2))\n",
    "print(random.sample(numbers, 1))"
   ]
  },
  {
   "cell_type": "code",
   "execution_count": 1,
   "metadata": {},
   "outputs": [],
   "source": [
    "def printSuccess():\n",
    "    '''Print'''\n",
    "    pass"
   ]
  },
  {
   "cell_type": "code",
   "execution_count": 2,
   "metadata": {},
   "outputs": [
    {
     "name": "stdout",
     "output_type": "stream",
     "text": [
      "Help on function printSuccess in module __main__:\n",
      "\n",
      "printSuccess()\n",
      "    Print\n",
      "\n"
     ]
    }
   ],
   "source": [
    "help(printSuccess)"
   ]
  },
  {
   "cell_type": "code",
   "execution_count": null,
   "metadata": {},
   "outputs": [],
   "source": []
  }
 ],
 "metadata": {
  "kernelspec": {
   "display_name": "allenv",
   "language": "python",
   "name": "python3"
  },
  "language_info": {
   "codemirror_mode": {
    "name": "ipython",
    "version": 3
   },
   "file_extension": ".py",
   "mimetype": "text/x-python",
   "name": "python",
   "nbconvert_exporter": "python",
   "pygments_lexer": "ipython3",
   "version": "3.11.6"
  }
 },
 "nbformat": 4,
 "nbformat_minor": 2
}
