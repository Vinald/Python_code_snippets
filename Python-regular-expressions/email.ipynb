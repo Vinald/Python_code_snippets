{
 "cells": [
  {
   "cell_type": "code",
   "execution_count": 2,
   "metadata": {},
   "outputs": [
    {
     "name": "stdout",
     "output_type": "stream",
     "text": [
      "username: okiror1vinald Domain: gmail.com\n"
     ]
    }
   ],
   "source": [
    "email = input('Enter your email').strip()\n",
    "username, domain = email.split('@')\n",
    "print(f'username: {username} Domain: {domain}')"
   ]
  },
  {
   "cell_type": "markdown",
   "metadata": {},
   "source": [
    "Traditional"
   ]
  },
  {
   "cell_type": "code",
   "execution_count": 3,
   "metadata": {},
   "outputs": [
    {
     "name": "stdout",
     "output_type": "stream",
     "text": [
      "valid\n"
     ]
    }
   ],
   "source": [
    "if username and '.' in domain:\n",
    "    print('valid')\n",
    "else:\n",
    "    print('Invalid')"
   ]
  },
  {
   "cell_type": "markdown",
   "metadata": {},
   "source": [
    "Regex\n",
    "\n",
    "- `. any character except new line`\n",
    "- `* 0 or more repetitions`\n",
    "- `+ 1 or more repetitions`\n",
    "- `? 0 or 1 repetition`\n",
    "- `{m} m repetitions`\n",
    "- `{m, n} m-n repetitions`\n",
    "- `^ matches the start of the string`\n",
    "- `$ matches the end of the string just before the newline`\n",
    "- `[] set of characters`\n",
    "- ` [^] complementing the set`"
   ]
  },
  {
   "cell_type": "code",
   "execution_count": 4,
   "metadata": {},
   "outputs": [],
   "source": [
    "import re"
   ]
  },
  {
   "cell_type": "code",
   "execution_count": 7,
   "metadata": {},
   "outputs": [
    {
     "data": {
      "text/plain": [
       "'@'"
      ]
     },
     "execution_count": 7,
     "metadata": {},
     "output_type": "execute_result"
    }
   ],
   "source": [
    "email = input('Enter your email').strip()\n",
    "email"
   ]
  },
  {
   "cell_type": "code",
   "execution_count": 8,
   "metadata": {},
   "outputs": [
    {
     "name": "stdout",
     "output_type": "stream",
     "text": [
      "valid\n"
     ]
    }
   ],
   "source": [
    "if re.search('@', email):\n",
    "    print('valid')\n",
    "else:\n",
    "    print('Invalid')"
   ]
  },
  {
   "cell_type": "code",
   "execution_count": 9,
   "metadata": {},
   "outputs": [
    {
     "data": {
      "text/plain": [
       "'sam@'"
      ]
     },
     "execution_count": 9,
     "metadata": {},
     "output_type": "execute_result"
    }
   ],
   "source": [
    "email = input('Enter your email').strip()\n",
    "email"
   ]
  },
  {
   "cell_type": "code",
   "execution_count": 10,
   "metadata": {},
   "outputs": [
    {
     "name": "stdout",
     "output_type": "stream",
     "text": [
      "valid\n"
     ]
    }
   ],
   "source": [
    "# checking if there is information on the right and left of the @\n",
    "# - `* 0 or more repetitions`\n",
    "# - `. any character except new line`\n",
    "\n",
    "if re.search('.*@.*', email):\n",
    "    print('valid')\n",
    "else:\n",
    "    print('Invalid')"
   ]
  },
  {
   "cell_type": "code",
   "execution_count": 11,
   "metadata": {},
   "outputs": [
    {
     "data": {
      "text/plain": [
       "'sam@'"
      ]
     },
     "execution_count": 11,
     "metadata": {},
     "output_type": "execute_result"
    }
   ],
   "source": [
    "email = input('Enter your email').strip()\n",
    "email"
   ]
  },
  {
   "cell_type": "code",
   "execution_count": 12,
   "metadata": {},
   "outputs": [
    {
     "name": "stdout",
     "output_type": "stream",
     "text": [
      "Invalid\n"
     ]
    }
   ],
   "source": [
    "# Making sure there is atleast a character on left and right \n",
    "# replace * with +\n",
    "# - `+ 1 or more repetitions`\n",
    "\n",
    "if re.search('.+@.+', email):\n",
    "    print('valid')\n",
    "else:\n",
    "    print('Invalid')"
   ]
  },
  {
   "cell_type": "code",
   "execution_count": 13,
   "metadata": {},
   "outputs": [
    {
     "name": "stdout",
     "output_type": "stream",
     "text": [
      "Invalid\n"
     ]
    }
   ],
   "source": [
    "# r - raw string literal when \\ in regex \n",
    "# helps to ignore special characters within the quotes like \\, . \n",
    "# check if ends with .com\n",
    "\n",
    "if re.search(r'.+@.+\\.com', email):\n",
    "    print('valid')\n",
    "else:\n",
    "    print('Invalid')"
   ]
  },
  {
   "cell_type": "code",
   "execution_count": 14,
   "metadata": {},
   "outputs": [
    {
     "data": {
      "text/plain": [
       "'sam@gmail.com'"
      ]
     },
     "execution_count": 14,
     "metadata": {},
     "output_type": "execute_result"
    }
   ],
   "source": [
    "email = input('Enter your email').strip()\n",
    "email"
   ]
  },
  {
   "cell_type": "code",
   "execution_count": 15,
   "metadata": {},
   "outputs": [
    {
     "name": "stdout",
     "output_type": "stream",
     "text": [
      "valid\n"
     ]
    }
   ],
   "source": [
    "# r - raw string literal when \\ in regex \n",
    "# helps to ignore special characters within the quotes like \\, . \n",
    "\n",
    "if re.search(r'.+@.+\\.com', email):\n",
    "    print('valid')\n",
    "else:\n",
    "    print('Invalid')"
   ]
  },
  {
   "cell_type": "code",
   "execution_count": 11,
   "metadata": {},
   "outputs": [
    {
     "name": "stdout",
     "output_type": "stream",
     "text": [
      "valid\n"
     ]
    }
   ],
   "source": [
    "# specify the start and end of the string\n",
    "# - `^ matches the start of the string`\n",
    "# - `$ matches the end of the string just before the newline`\n",
    "\n",
    "if re.search(r'^.+@.+\\.com$', email):\n",
    "    print('valid')\n",
    "else:\n",
    "    print('Invalid')"
   ]
  },
  {
   "cell_type": "code",
   "execution_count": 17,
   "metadata": {},
   "outputs": [
    {
     "data": {
      "text/plain": [
       "'sam@@@@gmail.com'"
      ]
     },
     "execution_count": 17,
     "metadata": {},
     "output_type": "execute_result"
    }
   ],
   "source": [
    "email = input('Enter your email').strip()\n",
    "email"
   ]
  },
  {
   "cell_type": "code",
   "execution_count": 18,
   "metadata": {},
   "outputs": [
    {
     "name": "stdout",
     "output_type": "stream",
     "text": [
      "valid\n"
     ]
    }
   ],
   "source": [
    "# specify the start and end of the string\n",
    "# - `^ matches the start of the string`\n",
    "# - `$ matches the end of the string just before the newline`\n",
    "\n",
    "if re.search(r'^.+@.+\\.com$', email):\n",
    "    print('valid')\n",
    "else:\n",
    "    print('Invalid')"
   ]
  },
  {
   "cell_type": "code",
   "execution_count": 19,
   "metadata": {},
   "outputs": [
    {
     "name": "stdout",
     "output_type": "stream",
     "text": [
      "Invalid\n"
     ]
    }
   ],
   "source": [
    "# specify the  @ restriction\n",
    "# - `[] set of characters`\n",
    "# - ` [^] complementing the set`\n",
    "\n",
    "if re.search(r'^[^@]+@[^@]+\\.com$', email):\n",
    "    print('valid')\n",
    "else:\n",
    "    print('Invalid')"
   ]
  },
  {
   "cell_type": "markdown",
   "metadata": {},
   "source": [
    "- `\\d decimal digit `\n",
    "- `\\D not a decimale digit`\n",
    "- `\\s whitespace characters `\n",
    "- `\\S not a whitespace character `\n",
    "- `\\w word character, numbers ans underscore ` [a-zA-Z0-9_]\n",
    "- `\\W not a word character `"
   ]
  },
  {
   "cell_type": "code",
   "execution_count": 21,
   "metadata": {},
   "outputs": [
    {
     "data": {
      "text/plain": [
       "'sam@gmail.com'"
      ]
     },
     "execution_count": 21,
     "metadata": {},
     "output_type": "execute_result"
    }
   ],
   "source": [
    "email = input('Enter your email').strip()\n",
    "email"
   ]
  },
  {
   "cell_type": "code",
   "execution_count": 22,
   "metadata": {},
   "outputs": [
    {
     "name": "stdout",
     "output_type": "stream",
     "text": [
      "valid\n"
     ]
    }
   ],
   "source": [
    "# specify the  @ restriction\n",
    "# - `\\w word character, numbers ans underscore `\n",
    "\n",
    "if re.search(r'^\\w+@\\w+\\.com$', email):\n",
    "    print('valid')\n",
    "else:\n",
    "    print('Invalid')"
   ]
  },
  {
   "cell_type": "markdown",
   "metadata": {},
   "source": [
    "- `re.IGNORECASE`\n",
    "- `re.MULTILINE`\n",
    "- `re.DOTALL`"
   ]
  },
  {
   "cell_type": "code",
   "execution_count": 23,
   "metadata": {},
   "outputs": [
    {
     "data": {
      "text/plain": [
       "'SAM@GMAIL.COM'"
      ]
     },
     "execution_count": 23,
     "metadata": {},
     "output_type": "execute_result"
    }
   ],
   "source": [
    "email = input('Enter your email').strip()\n",
    "email"
   ]
  },
  {
   "cell_type": "code",
   "execution_count": 24,
   "metadata": {},
   "outputs": [
    {
     "name": "stdout",
     "output_type": "stream",
     "text": [
      "Invalid\n"
     ]
    }
   ],
   "source": [
    "# specify the  @ restriction\n",
    "# - `\\w word character, numbers ans underscore `\n",
    "\n",
    "if re.search(r'^\\w+@\\w+\\.com$', email):\n",
    "    print('valid')\n",
    "else:\n",
    "    print('Invalid')"
   ]
  },
  {
   "cell_type": "code",
   "execution_count": 25,
   "metadata": {},
   "outputs": [
    {
     "name": "stdout",
     "output_type": "stream",
     "text": [
      "valid\n"
     ]
    }
   ],
   "source": [
    "# specify the  case restriction\n",
    "# adding more domains\n",
    "\n",
    "if re.search(r'^\\w+@\\w+\\.(com|edu|org|gov)$', email, re.IGNORECASE):\n",
    "    print('valid')\n",
    "else:\n",
    "    print('Invalid')"
   ]
  },
  {
   "cell_type": "code",
   "execution_count": 26,
   "metadata": {},
   "outputs": [
    {
     "data": {
      "text/plain": [
       "'SAM@GMAIL.ORG.COM'"
      ]
     },
     "execution_count": 26,
     "metadata": {},
     "output_type": "execute_result"
    }
   ],
   "source": [
    "email = input('Enter your email').strip()\n",
    "email"
   ]
  },
  {
   "cell_type": "code",
   "execution_count": 28,
   "metadata": {},
   "outputs": [
    {
     "name": "stdout",
     "output_type": "stream",
     "text": [
      "Invalid\n"
     ]
    }
   ],
   "source": [
    "# adding a . character\n",
    "\n",
    "if re.search(r'^\\w+@\\w+\\.(com|edu|org|gov)$', email, re.IGNORECASE):\n",
    "    print('valid')\n",
    "else:\n",
    "    print('Invalid')"
   ]
  },
  {
   "cell_type": "code",
   "execution_count": 27,
   "metadata": {},
   "outputs": [
    {
     "name": "stdout",
     "output_type": "stream",
     "text": [
      "valid\n"
     ]
    }
   ],
   "source": [
    "# adding a . character\n",
    "\n",
    "if re.search(r'^\\w+@(\\w+\\.)?\\w+\\.com$', email, re.IGNORECASE):\n",
    "    print('valid')\n",
    "else:\n",
    "    print('Invalid')"
   ]
  }
 ],
 "metadata": {
  "kernelspec": {
   "display_name": "allenv",
   "language": "python",
   "name": "python3"
  },
  "language_info": {
   "codemirror_mode": {
    "name": "ipython",
    "version": 3
   },
   "file_extension": ".py",
   "mimetype": "text/x-python",
   "name": "python",
   "nbconvert_exporter": "python",
   "pygments_lexer": "ipython3",
   "version": "3.11.6"
  }
 },
 "nbformat": 4,
 "nbformat_minor": 2
}
