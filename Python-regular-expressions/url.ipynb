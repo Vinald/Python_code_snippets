{
 "cells": [
  {
   "cell_type": "code",
   "execution_count": 1,
   "metadata": {},
   "outputs": [],
   "source": [
    "import re"
   ]
  },
  {
   "cell_type": "code",
   "execution_count": 2,
   "metadata": {},
   "outputs": [
    {
     "name": "stdout",
     "output_type": "stream",
     "text": [
      "https://x.com/vinald\n"
     ]
    }
   ],
   "source": [
    "url = input(\"Enter the URL: \").strip()\n",
    "print(url)"
   ]
  },
  {
   "cell_type": "code",
   "execution_count": 2,
   "metadata": {},
   "outputs": [
    {
     "name": "stdout",
     "output_type": "stream",
     "text": [
      "Username: vinald\n"
     ]
    }
   ],
   "source": [
    "url = 'https://x.com/vinald'\n",
    "\n",
    "username = url.replace('https://x.com/', '')\n",
    "print(f'Username: {username}')"
   ]
  },
  {
   "cell_type": "code",
   "execution_count": 3,
   "metadata": {},
   "outputs": [
    {
     "name": "stdout",
     "output_type": "stream",
     "text": [
      "Username: my url is https://x.com/vinald\n"
     ]
    }
   ],
   "source": [
    "url = 'my url is https://x.com/vinald'\n",
    "\n",
    "username = url.removeprefix('https://x.com/')\n",
    "print(f'Username: {username}')"
   ]
  },
  {
   "cell_type": "code",
   "execution_count": 4,
   "metadata": {},
   "outputs": [
    {
     "name": "stdout",
     "output_type": "stream",
     "text": [
      "Username: my url is vinald\n"
     ]
    }
   ],
   "source": [
    "url = 'my url is https://x.com/vinald'\n",
    "\n",
    "username = re.sub(r'https://x.com/', '', url)\n",
    "print(f'Username: {username}')"
   ]
  },
  {
   "cell_type": "code",
   "execution_count": 8,
   "metadata": {},
   "outputs": [
    {
     "name": "stdout",
     "output_type": "stream",
     "text": [
      "Username: vinald\n",
      "Username: vinald\n",
      "Username: vinald\n",
      "Username: vinald\n"
     ]
    }
   ],
   "source": [
    "# dealing with https, http, www, etc\n",
    "url = 'https://x.com/vinald'\n",
    "url1 = 'http://x.com/vinald'\n",
    "url2 = 'https://www.x.com/vinald'\n",
    "url3 = 'x.com/vinald'\n",
    "\n",
    "username = re.sub(r'^(https?://)?(www\\.)?x\\.com/', '', url)\n",
    "print(f'Username: {username}')\n",
    "\n",
    "username = re.sub(r'^(https?://)?(www\\.)?x\\.com/', '', url1)\n",
    "print(f'Username: {username}')\n",
    "\n",
    "username = re.sub(r'^(https?://)?(www\\.)?x\\.com/', '', url2)\n",
    "print(f'Username: {username}')\n",
    "\n",
    "username = re.sub(r'^(https?://)?(www\\.)?x\\.com/', '', url3)\n",
    "print(f'Username: {username}')"
   ]
  },
  {
   "cell_type": "code",
   "execution_count": 7,
   "metadata": {},
   "outputs": [
    {
     "name": "stdout",
     "output_type": "stream",
     "text": [
      "Username: vinald\n"
     ]
    }
   ],
   "source": [
    "# dealing with matching patterns of the URL\n",
    "url = 'https://x.com/vinald'\n",
    "\n",
    "matches = re.search(r'^(https?://)?(www\\.)?x\\.com/(.+)$', url, re.IGNORECASE)\n",
    "\n",
    "if matches:\n",
    "    print(f'Username: {matches.group(3)}')"
   ]
  },
  {
   "cell_type": "code",
   "execution_count": 11,
   "metadata": {},
   "outputs": [
    {
     "name": "stdout",
     "output_type": "stream",
     "text": [
      "Username: vinald\n"
     ]
    }
   ],
   "source": [
    "# dealing with matching patterns of the URL\n",
    "url = 'https://x.com/vinald'\n",
    "\n",
    "if matches := re.search(r'^(https?://)?(www\\.)?x\\.com/(.+)$', url, re.IGNORECASE):\n",
    "    print(f'Username: {matches.group(3)}')"
   ]
  },
  {
   "cell_type": "code",
   "execution_count": 13,
   "metadata": {},
   "outputs": [
    {
     "name": "stdout",
     "output_type": "stream",
     "text": [
      "Username: vinald\n"
     ]
    }
   ],
   "source": [
    "# dealing with matching groups and remaining with the username\n",
    "\n",
    "url = 'https://x.com/vinald'\n",
    "\n",
    "if matches := re.search(r'^(?:https?://)?(?:www\\.)?x\\.com/(.+)$', url, re.IGNORECASE):\n",
    "    print(f'Username: {matches.group(1)}')"
   ]
  },
  {
   "cell_type": "code",
   "execution_count": 14,
   "metadata": {},
   "outputs": [
    {
     "name": "stdout",
     "output_type": "stream",
     "text": [
      "Username: vinald\n"
     ]
    }
   ],
   "source": [
    "# Formatting the username\n",
    "\n",
    "url = 'https://x.com/vinald'\n",
    "\n",
    "if matches := re.search(r'^(?:https?://)?(?:www\\.)?x\\.com/([a-z0-9]+)$', url, re.IGNORECASE):\n",
    "    print(f'Username: {matches.group(1)}')"
   ]
  },
  {
   "cell_type": "code",
   "execution_count": null,
   "metadata": {},
   "outputs": [],
   "source": []
  }
 ],
 "metadata": {
  "kernelspec": {
   "display_name": "allenv",
   "language": "python",
   "name": "python3"
  },
  "language_info": {
   "codemirror_mode": {
    "name": "ipython",
    "version": 3
   },
   "file_extension": ".py",
   "mimetype": "text/x-python",
   "name": "python",
   "nbconvert_exporter": "python",
   "pygments_lexer": "ipython3",
   "version": "3.11.6"
  }
 },
 "nbformat": 4,
 "nbformat_minor": 2
}
