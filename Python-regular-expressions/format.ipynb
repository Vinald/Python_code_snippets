{
 "cells": [
  {
   "cell_type": "markdown",
   "metadata": {},
   "source": [
    "Traditional"
   ]
  },
  {
   "cell_type": "code",
   "execution_count": 12,
   "metadata": {},
   "outputs": [
    {
     "name": "stdout",
     "output_type": "stream",
     "text": [
      "Hello, okiror,samuel!\n",
      "Hello, samuel okiror!\n"
     ]
    }
   ],
   "source": [
    "name = input('What is your name? ').strip()\n",
    "print(f'Hello, {name}!')\n",
    "\n",
    "if ',' in name:\n",
    "    last, first = name.split(',')\n",
    "    name = f'{first} {last}'\n",
    "\n",
    "print(f'Hello, {name}!')"
   ]
  },
  {
   "cell_type": "code",
   "execution_count": 11,
   "metadata": {},
   "outputs": [],
   "source": [
    "import re"
   ]
  },
  {
   "cell_type": "markdown",
   "metadata": {},
   "source": [
    "Regex\n",
    "\n",
    "- `A|B either A or B`\n",
    "- `(...) a group`\n",
    "- `(?:...) non-capturing version`"
   ]
  },
  {
   "cell_type": "code",
   "execution_count": 10,
   "metadata": {},
   "outputs": [
    {
     "name": "stdout",
     "output_type": "stream",
     "text": [
      "Hello, oki, sam!\n",
      "Hello, sam oki!\n"
     ]
    }
   ],
   "source": [
    "name = input('What is your name? ').strip()\n",
    "print(f'Hello, {name}!')\n",
    "\n",
    "macthes = re.search(r'^(.+), (.+)$', name)\n",
    "if macthes:\n",
    "    first = macthes.group(2)\n",
    "    last = macthes.group(1)\n",
    "    name = f'{first} {last}'\n",
    "    print(f'Hello, {name}!')"
   ]
  },
  {
   "cell_type": "code",
   "execution_count": 13,
   "metadata": {},
   "outputs": [
    {
     "name": "stdout",
     "output_type": "stream",
     "text": [
      "Hello, okiror,       sam!\n",
      "Hello, sam okiror!\n"
     ]
    }
   ],
   "source": [
    "name = input('What is your name? ').strip()\n",
    "print(f'Hello, {name}!')\n",
    "\n",
    "macthes = re.search(r'^(.+), *(.+)$', name)\n",
    "if macthes:\n",
    "    first = macthes.group(2)\n",
    "    last = macthes.group(1)\n",
    "    name = f'{first} {last}'\n",
    "    print(f'Hello, {name}!')"
   ]
  },
  {
   "cell_type": "code",
   "execution_count": null,
   "metadata": {},
   "outputs": [],
   "source": []
  }
 ],
 "metadata": {
  "kernelspec": {
   "display_name": "allenv",
   "language": "python",
   "name": "python3"
  },
  "language_info": {
   "codemirror_mode": {
    "name": "ipython",
    "version": 3
   },
   "file_extension": ".py",
   "mimetype": "text/x-python",
   "name": "python",
   "nbconvert_exporter": "python",
   "pygments_lexer": "ipython3",
   "version": "3.11.6"
  }
 },
 "nbformat": 4,
 "nbformat_minor": 2
}
