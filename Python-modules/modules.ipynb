{
 "cells": [
  {
   "cell_type": "code",
   "execution_count": 1,
   "metadata": {},
   "outputs": [],
   "source": [
    "import os\n",
    "os.environ['TF_CPP_MIN_LOG_LEVEL'] = '2'"
   ]
  },
  {
   "cell_type": "code",
   "execution_count": null,
   "metadata": {},
   "outputs": [],
   "source": [
    "from modules.messages import hello\n",
    "from modules.car import Car"
   ]
  },
  {
   "cell_type": "markdown",
   "metadata": {},
   "source": [
    "## Hello function"
   ]
  },
  {
   "cell_type": "code",
   "execution_count": 2,
   "metadata": {},
   "outputs": [
    {
     "name": "stdout",
     "output_type": "stream",
     "text": [
      "hello\n"
     ]
    }
   ],
   "source": [
    "hello()"
   ]
  },
  {
   "cell_type": "markdown",
   "metadata": {},
   "source": [
    "## Car function"
   ]
  },
  {
   "cell_type": "code",
   "execution_count": 3,
   "metadata": {},
   "outputs": [
    {
     "name": "stdout",
     "output_type": "stream",
     "text": [
      "toyota\n",
      "bez\n",
      "2021\n",
      "red\n",
      "This car is driving\n",
      "This car is stopped\n"
     ]
    }
   ],
   "source": [
    "car1 = Car('toyota', 'bez', 2021, 'red')\n",
    "print(car1.make)\n",
    "print(car1.model)\n",
    "print(car1.year)\n",
    "print(car1.color)\n",
    "car1.drive()\n",
    "car1.stop()"
   ]
  },
  {
   "cell_type": "code",
   "execution_count": 4,
   "metadata": {},
   "outputs": [
    {
     "name": "stdout",
     "output_type": "stream",
     "text": [
      "china\n",
      "toyota\n",
      "2019\n",
      "white\n",
      "This car is driving\n",
      "This car is stopped\n"
     ]
    }
   ],
   "source": [
    "car2 = Car('china', 'toyota', 2019, 'white')\n",
    "print(car2.make)\n",
    "print(car2.model)\n",
    "print(car2.year)\n",
    "print(car2.color)\n",
    "car2.drive()\n",
    "car2.stop()"
   ]
  },
  {
   "cell_type": "code",
   "execution_count": 5,
   "metadata": {},
   "outputs": [
    {
     "name": "stdout",
     "output_type": "stream",
     "text": [
      "\n",
      "Please wait a moment while I gather a list of all available modules...\n",
      "\n"
     ]
    },
    {
     "name": "stderr",
     "output_type": "stream",
     "text": [
      "2024-06-15 11:17:59.654612: I external/local_tsl/tsl/cuda/cudart_stub.cc:32] Could not find cuda drivers on your machine, GPU will not be used.\n",
      "2024-06-15 11:17:59.711507: I external/local_tsl/tsl/cuda/cudart_stub.cc:32] Could not find cuda drivers on your machine, GPU will not be used.\n",
      "2024-06-15 11:17:59.979149: I tensorflow/core/platform/cpu_feature_guard.cc:210] This TensorFlow binary is optimized to use available CPU instructions in performance-critical operations.\n",
      "To enable the following instructions: AVX2 FMA, in other operations, rebuild TensorFlow with the appropriate compiler flags.\n",
      "2024-06-15 11:18:01.329965: W tensorflow/compiler/tf2tensorrt/utils/py_utils.cc:38] TF-TRT Warning: Could not find TensorRT\n",
      "/usr/lib/python3.11/pkgutil.py:92: UserWarning: The numpy.array_api submodule is still experimental. See NEP 47.\n",
      "  __import__(info.name)\n",
      "/home/vx/Desktop/allenv/lib/python3.11/site-packages/_distutils_hack/__init__.py:33: UserWarning: Setuptools is replacing distutils.\n",
      "  warnings.warn(\"Setuptools is replacing distutils.\")\n",
      "/home/vx/Desktop/allenv/lib/python3.11/site-packages/pydub/utils.py:170: RuntimeWarning: Couldn't find ffmpeg or avconv - defaulting to ffmpeg, but may not work\n",
      "  warn(\"Couldn't find ffmpeg or avconv - defaulting to ffmpeg, but may not work\", RuntimeWarning)\n"
     ]
    },
    {
     "name": "stdout",
     "output_type": "stream",
     "text": [
      "10_filter           ast                 jedi                requests\n",
      "11_reduce           asttokens           jinja2              resource\n",
      "12_closure          astunparse          joblib              rfc3339_validator\n",
      "13_decorators       async_lru           json                rfc3986_validator\n",
      "14_debugging        asynchat            json5               rich\n",
      "4_python_json       asyncio             jsonpointer         rlcompleter\n",
      "5_iterators         asyncore            jsonschema          rpds\n",
      "6_generator         atexit              jsonschema_specifications runpy\n",
      "7_argparser_commandline attr                jupyter             sched\n",
      "8_lambda            attrs               jupyter_client      scipy\n",
      "9_map               audioop             jupyter_console     seaborn\n",
      "IPython             audioread           jupyter_core        secrets\n",
      "PIL                 babel               jupyter_events      select\n",
      "PyPDF2              base64              jupyter_lsp         selectors\n",
      "__future__          bdb                 jupyter_server      send2trash\n",
      "__hello__           binascii            jupyter_server_terminals setuptools\n",
      "__phello__          bisect              jupyterlab          shelve\n",
      "_abc                bleach              jupyterlab_pygments shlex\n",
      "_aix_support        blinker             jupyterlab_server   shutil\n",
      "_argon2_cffi_bindings bs4                 jupyterlab_widgets  signal\n",
      "_ast                builtins            keras               simplejson\n",
      "_asyncio            bz2                 keyword             site\n",
      "_bisect             cProfile            kiwisolver          sitecustomize\n",
      "_blake2             calendar            lab                 six\n",
      "_bootsubprocess     certifi             lazy_loader         sklearn\n",
      "_bz2                cffi                lib2to3             smtpd\n",
      "_cffi_backend       cgi                 librosa             smtplib\n",
      "_codecs             cgitb               linecache           sndhdr\n",
      "_codecs_cn          charset_normalizer  llvmlite            sniffio\n",
      "_codecs_hk          chunk               locale              socket\n",
      "_codecs_iso2022     clang               logging             socketserver\n",
      "_codecs_jp          click               lzma                sounddevice\n",
      "_codecs_kr          cmath               mailbox             soundfile\n",
      "_codecs_tw          cmd                 mailcap             soupsieve\n",
      "_collections        code                markdown            soxr\n",
      "_collections_abc    codecs              markdown_it         spwd\n",
      "_compat_pickle      codeop              markupsafe          sqlalchemy\n",
      "_compression        collection          marshal             sqlite3\n",
      "_contextvars        collections         math                sqlparse\n",
      "_crypt              colorsys            matplotlib          sre_compile\n",
      "_csv                comm                matplotlib_inline   sre_constants\n",
      "_ctypes             compileall          mdurl               sre_parse\n",
      "_ctypes_test        concurrent          mimetypes           ssl\n",
      "_curses             configparser        mistune             stack_data\n",
      "_curses_panel       contextlib          ml_dtypes           stat\n",
      "_datetime           contextvars         mmap                statistics\n",
      "_dbm                contourpy           modulefinder        string\n",
      "_decimal            copy                msgpack             stringprep\n",
      "_distutils_hack     copyreg             multiprocessing     struct\n",
      "_distutils_system_mod cowsay              namex               subprocess\n",
      "_elementtree        crypt               nbclient            sunau\n",
      "_functools          csv                 nbconvert           symtable\n",
      "_gdbm               ctypes              nbformat            sys\n",
      "_hashlib            curses              nest_asyncio        sysconfig\n",
      "_heapq              cycler              netrc               syslog\n",
      "_imp                dataclasses         nis                 tabnanny\n",
      "_io                 datetime            nntplib             tarfile\n",
      "_json               dateutil            notebook            telnetlib\n",
      "_locale             dbm                 notebook_shim       tempfile\n",
      "_lsprof             debugpy             ntpath              tensorboard\n",
      "_lzma               decimal             nturl2path          tensorboard_data_server\n",
      "_markupbase         decorator           numba               tensorflow\n",
      "_md5                defusedxml          numbers             tensorflow_io\n",
      "_multibytecodec     difflib             numpy               tensorflow_io_gcs_filesystem\n",
      "_multiprocessing    dis                 opcode              termcolor\n",
      "_opcode             distutils           operator            terminado\n",
      "_operator           django              opt_einsum          termios\n",
      "_osx_support        doctest             optparse            test\n",
      "_pickle             documentation       optree              testing\n",
      "_posixshmem         downward            os                  textwrap\n",
      "_posixsubprocess    dunder              ossaudiodev         this\n",
      "_py_abc             email               overrides           threading\n",
      "_pydecimal          encodings           packaging           threadpoolctl\n",
      "_pyio               ensurepip           pandas              time\n",
      "_queue              enum                pandocfilters       timeit\n",
      "_random             errno               parso               tinycss2\n",
      "_sha1               executing           pasta               tkinter\n",
      "_sha256             fastjsonschema      pathlib             token\n",
      "_sha3               faulthandler        pdb                 tokenize\n",
      "_sha512             fcntl               pexpect             tomllib\n",
      "_signal             filecmp             pickle              tornado\n",
      "_sitebuiltins       fileinput           pickletools         trace\n",
      "_socket             flask               pip                 traceback\n",
      "_sounddevice        flask_sqlalchemy    pipes               tracemalloc\n",
      "_soundfile          flatbuffers         pkg_resources       traitlets\n",
      "_soundfile_data     fnmatch             pkgutil             tty\n",
      "_sqlite3            fontTools           platform            turtle\n",
      "_sre                fqdn                platformdirs        txt2tags\n",
      "_ssl                fractions           plistlib            types\n",
      "_stat               ftplib              pooch               typing\n",
      "_statistics         functools           poplib              typing_extensions\n",
      "_string             gast                posix               tzdata\n",
      "_strptime           gc                  posixpath           unicodedata\n",
      "_struct             genericpath         pprint              unittest\n",
      "_symtable           getopt              profile             uri_template\n",
      "_sysconfigdata__linux_x86_64-linux-gnu getpass             prometheus_client   urllib\n",
      "_sysconfigdata__x86_64-linux-gnu gettext             prompt_toolkit      urllib3\n",
      "_testbuffer         glob                pstats              uu\n",
      "_testcapi           graphlib            psutil              uuid\n",
      "_testclinic         greenlet            pty                 venv\n",
      "_testimportmultiple grp                 ptyprocess          warnings\n",
      "_testinternalcapi   grpc                pure_eval           wave\n",
      "_testmultiphase     gtts                pwd                 wcwidth\n",
      "_thread             gzip                py_compile          weakref\n",
      "_threading_local    h11                 pyaudio             webbrowser\n",
      "_tkinter            h5py                pyclbr              webcolors\n",
      "_tokenize           hashlib             pycparser           webencodings\n",
      "_tracemalloc        heapq               pydoc               websocket\n",
      "_typing             hmac                pydoc_data          werkzeug\n",
      "_uuid               html                pydot               wheel\n",
      "_warnings           http                pydub               widgetsnbextension\n",
      "_weakref            httpcore            pyexpat             wrapt\n",
      "_weakrefset         httpx               pygments            wsgiref\n",
      "_xxsubinterpreters  idna                pylab               xdrlib\n",
      "_xxtestfuzz         imaplib             pyparsing           xml\n",
      "_yaml               imghdr              pythonjsonlogger    xmlrpc\n",
      "_zoneinfo           imp                 pyttsx3             xxlimited\n",
      "abc                 importlib           pytz                xxlimited_35\n",
      "absl                inspect             qtconsole           xxsubtype\n",
      "aifc                io                  qtpy                yaml\n",
      "antigravity         ipaddress           queue               zipapp\n",
      "anyio               ipykernel           quopri              zipfile\n",
      "argon2              ipykernel_launcher  random              zipimport\n",
      "argparse            ipywidgets          re                  zlib\n",
      "array               isoduration         readline            zmq\n",
      "arrow               itertools           referencing         zoneinfo\n",
      "asgiref             itsdangerous        reprlib             \n",
      "\n",
      "Enter any module name to get more help.  Or, type \"modules spam\" to search\n",
      "for modules whose name or summary contain the string \"spam\".\n",
      "\n",
      "\n"
     ]
    }
   ],
   "source": [
    "# shows all inbuilt modules\n",
    "help('modules')\n",
    "print()"
   ]
  },
  {
   "cell_type": "code",
   "execution_count": 6,
   "metadata": {},
   "outputs": [
    {
     "name": "stdout",
     "output_type": "stream",
     "text": [
      "['CLD_CONTINUED', 'CLD_DUMPED', 'CLD_EXITED', 'CLD_KILLED', 'CLD_STOPPED', 'CLD_TRAPPED', 'DirEntry', 'EFD_CLOEXEC', 'EFD_NONBLOCK', 'EFD_SEMAPHORE', 'EX_CANTCREAT', 'EX_CONFIG', 'EX_DATAERR', 'EX_IOERR', 'EX_NOHOST', 'EX_NOINPUT', 'EX_NOPERM', 'EX_NOUSER', 'EX_OK', 'EX_OSERR', 'EX_OSFILE', 'EX_PROTOCOL', 'EX_SOFTWARE', 'EX_TEMPFAIL', 'EX_UNAVAILABLE', 'EX_USAGE', 'F_LOCK', 'F_OK', 'F_TEST', 'F_TLOCK', 'F_ULOCK', 'GRND_NONBLOCK', 'GRND_RANDOM', 'GenericAlias', 'MFD_ALLOW_SEALING', 'MFD_CLOEXEC', 'MFD_HUGETLB', 'MFD_HUGE_16GB', 'MFD_HUGE_16MB', 'MFD_HUGE_1GB', 'MFD_HUGE_1MB', 'MFD_HUGE_256MB', 'MFD_HUGE_2GB', 'MFD_HUGE_2MB', 'MFD_HUGE_32MB', 'MFD_HUGE_512KB', 'MFD_HUGE_512MB', 'MFD_HUGE_64KB', 'MFD_HUGE_8MB', 'MFD_HUGE_MASK', 'MFD_HUGE_SHIFT', 'Mapping', 'MutableMapping', 'NGROUPS_MAX', 'O_ACCMODE', 'O_APPEND', 'O_ASYNC', 'O_CLOEXEC', 'O_CREAT', 'O_DIRECT', 'O_DIRECTORY', 'O_DSYNC', 'O_EXCL', 'O_FSYNC', 'O_LARGEFILE', 'O_NDELAY', 'O_NOATIME', 'O_NOCTTY', 'O_NOFOLLOW', 'O_NONBLOCK', 'O_PATH', 'O_RDONLY', 'O_RDWR', 'O_RSYNC', 'O_SYNC', 'O_TMPFILE', 'O_TRUNC', 'O_WRONLY', 'POSIX_FADV_DONTNEED', 'POSIX_FADV_NOREUSE', 'POSIX_FADV_NORMAL', 'POSIX_FADV_RANDOM', 'POSIX_FADV_SEQUENTIAL', 'POSIX_FADV_WILLNEED', 'POSIX_SPAWN_CLOSE', 'POSIX_SPAWN_DUP2', 'POSIX_SPAWN_OPEN', 'PRIO_PGRP', 'PRIO_PROCESS', 'PRIO_USER', 'P_ALL', 'P_NOWAIT', 'P_NOWAITO', 'P_PGID', 'P_PID', 'P_PIDFD', 'P_WAIT', 'PathLike', 'RTLD_DEEPBIND', 'RTLD_GLOBAL', 'RTLD_LAZY', 'RTLD_LOCAL', 'RTLD_NODELETE', 'RTLD_NOLOAD', 'RTLD_NOW', 'RWF_APPEND', 'RWF_DSYNC', 'RWF_HIPRI', 'RWF_NOWAIT', 'RWF_SYNC', 'R_OK', 'SCHED_BATCH', 'SCHED_FIFO', 'SCHED_IDLE', 'SCHED_OTHER', 'SCHED_RESET_ON_FORK', 'SCHED_RR', 'SEEK_CUR', 'SEEK_DATA', 'SEEK_END', 'SEEK_HOLE', 'SEEK_SET', 'SPLICE_F_MORE', 'SPLICE_F_MOVE', 'SPLICE_F_NONBLOCK', 'ST_APPEND', 'ST_MANDLOCK', 'ST_NOATIME', 'ST_NODEV', 'ST_NODIRATIME', 'ST_NOEXEC', 'ST_NOSUID', 'ST_RDONLY', 'ST_RELATIME', 'ST_SYNCHRONOUS', 'ST_WRITE', 'TMP_MAX', 'WCONTINUED', 'WCOREDUMP', 'WEXITED', 'WEXITSTATUS', 'WIFCONTINUED', 'WIFEXITED', 'WIFSIGNALED', 'WIFSTOPPED', 'WNOHANG', 'WNOWAIT', 'WSTOPPED', 'WSTOPSIG', 'WTERMSIG', 'WUNTRACED', 'W_OK', 'XATTR_CREATE', 'XATTR_REPLACE', 'XATTR_SIZE_MAX', 'X_OK', '_Environ', '__all__', '__builtins__', '__doc__', '__file__', '__loader__', '__name__', '__package__', '__spec__', '_check_methods', '_execvpe', '_exists', '_exit', '_fspath', '_fwalk', '_get_exports_list', '_spawnvef', '_walk', '_wrap_close', 'abc', 'abort', 'access', 'altsep', 'chdir', 'chmod', 'chown', 'chroot', 'close', 'closerange', 'confstr', 'confstr_names', 'copy_file_range', 'cpu_count', 'ctermid', 'curdir', 'defpath', 'device_encoding', 'devnull', 'dup', 'dup2', 'environ', 'environb', 'error', 'eventfd', 'eventfd_read', 'eventfd_write', 'execl', 'execle', 'execlp', 'execlpe', 'execv', 'execve', 'execvp', 'execvpe', 'extsep', 'fchdir', 'fchmod', 'fchown', 'fdatasync', 'fdopen', 'fork', 'forkpty', 'fpathconf', 'fsdecode', 'fsencode', 'fspath', 'fstat', 'fstatvfs', 'fsync', 'ftruncate', 'fwalk', 'get_blocking', 'get_exec_path', 'get_inheritable', 'get_terminal_size', 'getcwd', 'getcwdb', 'getegid', 'getenv', 'getenvb', 'geteuid', 'getgid', 'getgrouplist', 'getgroups', 'getloadavg', 'getlogin', 'getpgid', 'getpgrp', 'getpid', 'getppid', 'getpriority', 'getrandom', 'getresgid', 'getresuid', 'getsid', 'getuid', 'getxattr', 'initgroups', 'isatty', 'kill', 'killpg', 'lchown', 'linesep', 'link', 'listdir', 'listxattr', 'lockf', 'login_tty', 'lseek', 'lstat', 'major', 'makedev', 'makedirs', 'memfd_create', 'minor', 'mkdir', 'mkfifo', 'mknod', 'name', 'nice', 'open', 'openpty', 'pardir', 'path', 'pathconf', 'pathconf_names', 'pathsep', 'pidfd_open', 'pipe', 'pipe2', 'popen', 'posix_fadvise', 'posix_fallocate', 'posix_spawn', 'posix_spawnp', 'pread', 'preadv', 'putenv', 'pwrite', 'pwritev', 'read', 'readlink', 'readv', 'register_at_fork', 'remove', 'removedirs', 'removexattr', 'rename', 'renames', 'replace', 'rmdir', 'scandir', 'sched_get_priority_max', 'sched_get_priority_min', 'sched_getaffinity', 'sched_getparam', 'sched_getscheduler', 'sched_param', 'sched_rr_get_interval', 'sched_setaffinity', 'sched_setparam', 'sched_setscheduler', 'sched_yield', 'sendfile', 'sep', 'set_blocking', 'set_inheritable', 'setegid', 'seteuid', 'setgid', 'setgroups', 'setpgid', 'setpgrp', 'setpriority', 'setregid', 'setresgid', 'setresuid', 'setreuid', 'setsid', 'setuid', 'setxattr', 'spawnl', 'spawnle', 'spawnlp', 'spawnlpe', 'spawnv', 'spawnve', 'spawnvp', 'spawnvpe', 'splice', 'st', 'stat', 'stat_result', 'statvfs', 'statvfs_result', 'strerror', 'supports_bytes_environ', 'supports_dir_fd', 'supports_effective_ids', 'supports_fd', 'supports_follow_symlinks', 'symlink', 'sync', 'sys', 'sysconf', 'sysconf_names', 'system', 'tcgetpgrp', 'tcsetpgrp', 'terminal_size', 'times', 'times_result', 'truncate', 'ttyname', 'umask', 'uname', 'uname_result', 'unlink', 'unsetenv', 'urandom', 'utime', 'wait', 'wait3', 'wait4', 'waitid', 'waitid_result', 'waitpid', 'waitstatus_to_exitcode', 'walk', 'write', 'writev']\n",
      "\n"
     ]
    }
   ],
   "source": [
    "# shows all functions in a module\n",
    "print(dir(os))\n",
    "print()"
   ]
  },
  {
   "cell_type": "code",
   "execution_count": 7,
   "metadata": {},
   "outputs": [
    {
     "name": "stdout",
     "output_type": "stream",
     "text": [
      "/home/vx/Desktop/github/Python/2_intermmediate\n",
      "\n"
     ]
    }
   ],
   "source": [
    "# print the current working directory\n",
    "print(os.getcwd())\n",
    "print()"
   ]
  },
  {
   "cell_type": "code",
   "execution_count": 8,
   "metadata": {},
   "outputs": [
    {
     "name": "stdout",
     "output_type": "stream",
     "text": [
      "['8_lambda.py', 'testing.py', '1_Error_handling.ipynb', '6_generator.py', '3_modules.ipynb', '7_argparser_commandline.py', 'dunder.py', '12_closure.py', 'documentation.py', 'collection.py', '10_filter.py', '4_python_json.py', '9_map.py', '14_debugging.py', '2_file_path.ipynb', '13_decorators.py', '5_iterators.py', 'modules', '11_reduce.py']\n",
      "\n"
     ]
    }
   ],
   "source": [
    "# prints files in the current working directotry\n",
    "print(os.listdir())\n",
    "print()"
   ]
  },
  {
   "cell_type": "code",
   "execution_count": 9,
   "metadata": {},
   "outputs": [
    {
     "name": "stdout",
     "output_type": "stream",
     "text": [
      "Variable   Type        Data/Info\n",
      "--------------------------------\n",
      "Car        type        <class 'modules.car.Car'>\n",
      "car1       Car         <modules.car.Car object at 0x72145d2a0fd0>\n",
      "car2       Car         <modules.car.Car object at 0x72145d297d10>\n",
      "hello      function    <function hello at 0x72145dd2ea20>\n",
      "os         module      <module 'os' (frozen)>\n"
     ]
    }
   ],
   "source": [
    "%whos"
   ]
  },
  {
   "cell_type": "code",
   "execution_count": null,
   "metadata": {},
   "outputs": [],
   "source": []
  }
 ],
 "metadata": {
  "kernelspec": {
   "display_name": "allenv",
   "language": "python",
   "name": "python3"
  },
  "language_info": {
   "codemirror_mode": {
    "name": "ipython",
    "version": 3
   },
   "file_extension": ".py",
   "mimetype": "text/x-python",
   "name": "python",
   "nbconvert_exporter": "python",
   "pygments_lexer": "ipython3",
   "version": "3.11.6"
  }
 },
 "nbformat": 4,
 "nbformat_minor": 2
}
