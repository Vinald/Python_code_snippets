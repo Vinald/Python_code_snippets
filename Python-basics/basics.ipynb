{
 "cells": [
  {
   "cell_type": "markdown",
   "metadata": {},
   "source": [
    "## Printing Function"
   ]
  },
  {
   "cell_type": "code",
   "execution_count": null,
   "metadata": {},
   "outputs": [
    {
     "name": "stdout",
     "output_type": "stream",
     "text": [
      "Starting my programming journey in python\n"
     ]
    }
   ],
   "source": [
    "print('Starting my programming journey in python')"
   ]
  },
  {
   "cell_type": "markdown",
   "metadata": {},
   "source": [
    "## Variables"
   ]
  },
  {
   "cell_type": "code",
   "execution_count": null,
   "metadata": {},
   "outputs": [
    {
     "data": {
      "text/plain": [
       "'Okiror Samuel Vinald'"
      ]
     },
     "metadata": {},
     "output_type": "display_data"
    }
   ],
   "source": [
    "name = 'Okiror Samuel Vinald'\n",
    "name"
   ]
  },
  {
   "cell_type": "code",
   "execution_count": null,
   "metadata": {},
   "outputs": [
    {
     "data": {
      "text/plain": [
       "24"
      ]
     },
     "metadata": {},
     "output_type": "display_data"
    }
   ],
   "source": [
    "age = 24\n",
    "age"
   ]
  },
  {
   "cell_type": "code",
   "execution_count": null,
   "metadata": {},
   "outputs": [
    {
     "data": {
      "text/plain": [
       "25"
      ]
     },
     "metadata": {},
     "output_type": "display_data"
    }
   ],
   "source": [
    "newAge = age + 1\n",
    "newAge"
   ]
  },
  {
   "cell_type": "code",
   "execution_count": null,
   "metadata": {},
   "outputs": [
    {
     "name": "stdout",
     "output_type": "stream",
     "text": [
      "Variable   Type    Data/Info\n",
      "----------------------------\n",
      "age        int     24\n",
      "name       str     Okiror Samuel Vinald\n",
      "newAge     int     25\n"
     ]
    }
   ],
   "source": [
    "%whos"
   ]
  },
  {
   "cell_type": "markdown",
   "metadata": {},
   "source": [
    "## Data Types"
   ]
  },
  {
   "cell_type": "code",
   "execution_count": null,
   "metadata": {},
   "outputs": [],
   "source": [
    "# integer type\n",
    "number = 12\n",
    "\n",
    "# string type\n",
    "name = 'vinald'\n",
    "\n",
    "# floating point type\n",
    "height = 156.9\n",
    "password = 10e10\n",
    "\n",
    "# boolean type\n",
    "male = True"
   ]
  },
  {
   "cell_type": "code",
   "execution_count": null,
   "metadata": {},
   "outputs": [
    {
     "name": "stdout",
     "output_type": "stream",
     "text": [
      "12: has a type of <class 'int'>\n"
     ]
    }
   ],
   "source": [
    "print(f'{number}: has a type of {type(number)}')"
   ]
  },
  {
   "cell_type": "code",
   "execution_count": null,
   "metadata": {},
   "outputs": [
    {
     "name": "stdout",
     "output_type": "stream",
     "text": [
      "vinald: has a type of <class 'str'>\n"
     ]
    }
   ],
   "source": [
    "print(f'{name}: has a type of {type(name)}')"
   ]
  },
  {
   "cell_type": "code",
   "execution_count": null,
   "metadata": {},
   "outputs": [
    {
     "name": "stdout",
     "output_type": "stream",
     "text": [
      "156.9: has a type of <class 'float'>\n"
     ]
    }
   ],
   "source": [
    "print(f'{height}: has a type of {type(height)}')"
   ]
  },
  {
   "cell_type": "code",
   "execution_count": null,
   "metadata": {},
   "outputs": [
    {
     "name": "stdout",
     "output_type": "stream",
     "text": [
      "100000000000.0: has a type of <class 'float'>\n"
     ]
    }
   ],
   "source": [
    "print(f'{password}: has a type of {type(password)}')"
   ]
  },
  {
   "cell_type": "code",
   "execution_count": null,
   "metadata": {},
   "outputs": [
    {
     "name": "stdout",
     "output_type": "stream",
     "text": [
      "True: has a type of <class 'bool'>\n"
     ]
    }
   ],
   "source": [
    "print(f'{male}: has a type of {type(male)}')"
   ]
  },
  {
   "cell_type": "code",
   "execution_count": null,
   "metadata": {},
   "outputs": [
    {
     "name": "stdout",
     "output_type": "stream",
     "text": [
      "Variable   Type     Data/Info\n",
      "-----------------------------\n",
      "age        int      24\n",
      "height     float    156.9\n",
      "male       bool     True\n",
      "name       str      vinald\n",
      "newAge     int      25\n",
      "number     int      12\n",
      "password   float    100000000000.0\n"
     ]
    }
   ],
   "source": [
    "%whos"
   ]
  },
  {
   "cell_type": "markdown",
   "metadata": {},
   "source": [
    "#### Floats"
   ]
  },
  {
   "cell_type": "code",
   "execution_count": 6,
   "metadata": {},
   "outputs": [
    {
     "name": "stdout",
     "output_type": "stream",
     "text": [
      "12.5 has a types of <class 'float'>\n",
      "100000000000.0 has a types of <class 'float'>\n"
     ]
    }
   ],
   "source": [
    "number = 12.5\n",
    "print(f'{number} has a types of {type(number)}')\n",
    "\n",
    "number = 10e10\n",
    "print(f'{number} has a types of {type(number)}')"
   ]
  },
  {
   "cell_type": "markdown",
   "metadata": {},
   "source": [
    "#### Strings"
   ]
  },
  {
   "cell_type": "code",
   "execution_count": 7,
   "metadata": {},
   "outputs": [
    {
     "name": "stdout",
     "output_type": "stream",
     "text": [
      "vX has a data type of <class 'str'>\n"
     ]
    }
   ],
   "source": [
    "name = 'vX'\n",
    "print(f'{name} has a data type of {type(name)}')"
   ]
  },
  {
   "cell_type": "markdown",
   "metadata": {},
   "source": [
    "#### Boolean"
   ]
  },
  {
   "cell_type": "code",
   "execution_count": 8,
   "metadata": {},
   "outputs": [
    {
     "name": "stdout",
     "output_type": "stream",
     "text": [
      "is samuel a male True\n",
      "is 1 == 1 True\n",
      "is 1 == 3 False\n"
     ]
    }
   ],
   "source": [
    "is_male = True\n",
    "print(f'is samuel a male {is_male}')\n",
    "\n",
    "print(f'is 1 == 1 {1 == 1}')\n",
    "\n",
    "print(f'is 1 == 3 {1 == 3}')"
   ]
  },
  {
   "cell_type": "markdown",
   "metadata": {},
   "source": [
    "### Type casting"
   ]
  },
  {
   "cell_type": "code",
   "execution_count": 20,
   "metadata": {},
   "outputs": [
    {
     "name": "stdout",
     "output_type": "stream",
     "text": [
      "Data type of 100 in <class 'int'>\n"
     ]
    }
   ],
   "source": [
    "x = 100\n",
    "print(f'Data type of {x} in {type(x)}')"
   ]
  },
  {
   "cell_type": "code",
   "execution_count": 21,
   "metadata": {},
   "outputs": [
    {
     "name": "stdout",
     "output_type": "stream",
     "text": [
      "Data type of 100 in <class 'str'>\n"
     ]
    }
   ],
   "source": [
    "x = str(x)\n",
    "print(f'Data type of {x} in {type(x)}')\n"
   ]
  },
  {
   "cell_type": "code",
   "execution_count": 22,
   "metadata": {},
   "outputs": [
    {
     "name": "stdout",
     "output_type": "stream",
     "text": [
      "Data type of 100.0 in <class 'float'>\n"
     ]
    }
   ],
   "source": [
    "x = float(x)\n",
    "print(f'Data type of {x} in {type(x)}')"
   ]
  },
  {
   "cell_type": "code",
   "execution_count": 23,
   "metadata": {},
   "outputs": [
    {
     "name": "stdout",
     "output_type": "stream",
     "text": [
      "Data type of 100 in <class 'int'>\n"
     ]
    }
   ],
   "source": [
    "x = int(x)\n",
    "print(f'Data type of {x} in {type(x)}')"
   ]
  },
  {
   "cell_type": "markdown",
   "metadata": {},
   "source": [
    "### User input"
   ]
  },
  {
   "cell_type": "markdown",
   "metadata": {},
   "source": [
    "#### String"
   ]
  },
  {
   "cell_type": "code",
   "execution_count": 24,
   "metadata": {},
   "outputs": [
    {
     "name": "stdout",
     "output_type": "stream",
     "text": [
      "Name: samuel\n"
     ]
    }
   ],
   "source": [
    "name = input('Enter your name:')\n",
    "print(f'Name: {name}')"
   ]
  },
  {
   "cell_type": "markdown",
   "metadata": {},
   "source": [
    "#### Integer"
   ]
  },
  {
   "cell_type": "code",
   "execution_count": 25,
   "metadata": {},
   "outputs": [
    {
     "name": "stdout",
     "output_type": "stream",
     "text": [
      "Age: 12\n"
     ]
    }
   ],
   "source": [
    "age = int(input('How old are you?'))\n",
    "print(f'Age: {age}')"
   ]
  },
  {
   "cell_type": "markdown",
   "metadata": {},
   "source": [
    "#### Float"
   ]
  },
  {
   "cell_type": "code",
   "execution_count": 26,
   "metadata": {},
   "outputs": [
    {
     "name": "stdout",
     "output_type": "stream",
     "text": [
      "Height: 24.0\n"
     ]
    }
   ],
   "source": [
    "height = float(input('What is your height'))\n",
    "print(f'Height: {height}')"
   ]
  },
  {
   "cell_type": "markdown",
   "metadata": {},
   "source": [
    "### Operators"
   ]
  },
  {
   "cell_type": "code",
   "execution_count": 35,
   "metadata": {},
   "outputs": [],
   "source": [
    "num1 = 12\n",
    "num2 = 6"
   ]
  },
  {
   "cell_type": "code",
   "execution_count": 36,
   "metadata": {},
   "outputs": [
    {
     "name": "stdout",
     "output_type": "stream",
     "text": [
      "addition 12 + 6 = 18\n"
     ]
    }
   ],
   "source": [
    "print(f'addition {num1} + {num2} = {num1 + num2}')"
   ]
  },
  {
   "cell_type": "code",
   "execution_count": 37,
   "metadata": {},
   "outputs": [
    {
     "name": "stdout",
     "output_type": "stream",
     "text": [
      "subtraction 12 - 6 = 6\n"
     ]
    }
   ],
   "source": [
    "print(f'subtraction {num1} - {num2} = {num1 - num2}')\n"
   ]
  },
  {
   "cell_type": "code",
   "execution_count": 38,
   "metadata": {},
   "outputs": [
    {
     "name": "stdout",
     "output_type": "stream",
     "text": [
      "multiplication 12 * 6 = 72\n"
     ]
    }
   ],
   "source": [
    "print(f'multiplication {num1} * {num2} = {num1 * num2}')"
   ]
  },
  {
   "cell_type": "code",
   "execution_count": 39,
   "metadata": {},
   "outputs": [
    {
     "name": "stdout",
     "output_type": "stream",
     "text": [
      "division 12 / 6 = 2.0\n"
     ]
    }
   ],
   "source": [
    "print(f'division {num1} / {num2} = {num1 / num2}')"
   ]
  },
  {
   "cell_type": "code",
   "execution_count": 40,
   "metadata": {},
   "outputs": [
    {
     "name": "stdout",
     "output_type": "stream",
     "text": [
      "modulus 12 % 6 = 0\n"
     ]
    }
   ],
   "source": [
    "print(f'modulus {num1} % {num2} = {num1 % num2}')"
   ]
  },
  {
   "cell_type": "code",
   "execution_count": 41,
   "metadata": {},
   "outputs": [
    {
     "name": "stdout",
     "output_type": "stream",
     "text": [
      "floor division 12 // 6 = 2\n"
     ]
    }
   ],
   "source": [
    "print(f'floor division {num1} // {num2} = {num1 // num2}')\n"
   ]
  },
  {
   "cell_type": "code",
   "execution_count": 42,
   "metadata": {},
   "outputs": [
    {
     "name": "stdout",
     "output_type": "stream",
     "text": [
      "is 12 == 6 = False\n"
     ]
    }
   ],
   "source": [
    "print(f'is {num1} == {num2} = {num1 == num2}')"
   ]
  },
  {
   "cell_type": "code",
   "execution_count": 43,
   "metadata": {},
   "outputs": [
    {
     "name": "stdout",
     "output_type": "stream",
     "text": [
      "is 12 > 6 = True\n"
     ]
    }
   ],
   "source": [
    "print(f'is {num1} > {num2} = {num1 > num2}')"
   ]
  },
  {
   "cell_type": "code",
   "execution_count": 44,
   "metadata": {},
   "outputs": [
    {
     "name": "stdout",
     "output_type": "stream",
     "text": [
      "is 12 < 6 = False\n"
     ]
    }
   ],
   "source": [
    "print(f'is {num1} < {num2} = {num1 < num2}')"
   ]
  },
  {
   "cell_type": "code",
   "execution_count": 45,
   "metadata": {},
   "outputs": [
    {
     "name": "stdout",
     "output_type": "stream",
     "text": [
      "is 12 != 6 = True\n"
     ]
    }
   ],
   "source": [
    "print(f'is {num1} != {num2} = {num1 != num2}')"
   ]
  },
  {
   "cell_type": "code",
   "execution_count": 46,
   "metadata": {},
   "outputs": [
    {
     "name": "stdout",
     "output_type": "stream",
     "text": [
      "is 12 <= 6 = False\n"
     ]
    }
   ],
   "source": [
    "print(f'is {num1} <= {num2} = {num1 <= num2}')"
   ]
  },
  {
   "cell_type": "code",
   "execution_count": 47,
   "metadata": {},
   "outputs": [
    {
     "name": "stdout",
     "output_type": "stream",
     "text": [
      "is 12 >= 6 = True\n"
     ]
    }
   ],
   "source": [
    "print(f'is {num1} >= {num2} = {num1 >= num2}')"
   ]
  }
 ],
 "metadata": {
  "kernelspec": {
   "display_name": "allenv",
   "language": "python",
   "name": "python3"
  },
  "language_info": {
   "codemirror_mode": {
    "name": "ipython",
    "version": 3
   },
   "file_extension": ".py",
   "mimetype": "text/x-python",
   "name": "python",
   "nbconvert_exporter": "python",
   "pygments_lexer": "ipython3",
   "version": "3.11.6"
  }
 },
 "nbformat": 4,
 "nbformat_minor": 2
}
