{
 "cells": [
  {
   "cell_type": "code",
   "execution_count": 1,
   "metadata": {},
   "outputs": [],
   "source": [
    "from main.student import Student"
   ]
  },
  {
   "cell_type": "code",
   "execution_count": 2,
   "metadata": {},
   "outputs": [],
   "source": [
    "std1 = Student('okiror', 'student1', '16/U/1234')\n",
    "std2 = Student('mutumba', 'student2', '16/U/1234')\n",
    "std3 = Student('okello', 'student3', '16/U/1234')"
   ]
  },
  {
   "cell_type": "code",
   "execution_count": 3,
   "metadata": {},
   "outputs": [
    {
     "name": "stdout",
     "output_type": "stream",
     "text": [
      "okiror student1\n",
      "okiror.student1@students.muk.ac.ug\n",
      "\n"
     ]
    }
   ],
   "source": [
    "# ------------ printing the attributes of the object std1\n",
    "print(std1.get_fullname)\n",
    "print(std1.webmail)\n",
    "print()\n"
   ]
  },
  {
   "cell_type": "code",
   "execution_count": 4,
   "metadata": {},
   "outputs": [
    {
     "name": "stdout",
     "output_type": "stream",
     "text": [
      "okiror vinald\n",
      "okiror vinald@students.mak.ac.ug\n",
      "\n"
     ]
    }
   ],
   "source": [
    "#------------- applying the setter method to change the value of the attributes\n",
    "std1.lname = 'vinald'\n",
    "print(std1.get_fullname)\n",
    "print(std1.get_webmail)\n",
    "print()"
   ]
  },
  {
   "cell_type": "code",
   "execution_count": 5,
   "metadata": {},
   "outputs": [
    {
     "name": "stdout",
     "output_type": "stream",
     "text": [
      "Computer Engineering\n",
      "Computer Engineering\n",
      "\n"
     ]
    }
   ],
   "source": [
    "# ----------- department of the student\n",
    "print(std1.departement)\n",
    "print(Student.get_departement())\n",
    "print()"
   ]
  },
  {
   "cell_type": "code",
   "execution_count": 7,
   "metadata": {},
   "outputs": [
    {
     "name": "stdout",
     "output_type": "stream",
     "text": [
      "Attribute dict\n",
      "{'fname': 'okiror', 'lname': 'vinald', 'reg': '16/U/1234', 'webmail': 'okiror.student1@students.muk.ac.ug', 'courses': ['project'], 'group_member': None}\n"
     ]
    }
   ],
   "source": [
    "# ----------- printing the attribute dict\n",
    "print('Attribute dict')\n",
    "print(std1.__dict__)"
   ]
  },
  {
   "cell_type": "code",
   "execution_count": 8,
   "metadata": {},
   "outputs": [
    {
     "name": "stdout",
     "output_type": "stream",
     "text": [
      "fname : okiror\n",
      "lname : vinald\n",
      "reg : 16/U/1234\n",
      "webmail : okiror.student1@students.muk.ac.ug\n",
      "courses : ['project']\n",
      "group_member : None\n",
      "\n"
     ]
    }
   ],
   "source": [
    "for key, value in std1.__dict__.items():\n",
    "    print(f'{key} : {value}')\n",
    "print()"
   ]
  },
  {
   "cell_type": "code",
   "execution_count": 10,
   "metadata": {},
   "outputs": [
    {
     "name": "stdout",
     "output_type": "stream",
     "text": [
      "Class dict\n",
      "{'__module__': 'main.student', 'departement': 'Computer Engineering', 'off_subjects': ['CMP1', 'ELE1', 'MAT1', 'project'], 'all_students': [okiror vinald-16/U/1234, mutumba student2-16/U/1234, okello student3-16/U/1234], '__init__': <function Student.__init__ at 0x7a32957efec0>, 'get_fullname': <property object at 0x7a32a650bec0>, '__repr__': <function Student.__repr__ at 0x7a3294e30540>, 'register_subject': <function Student.register_subject at 0x7a3294e30680>, 'set_group_member': <function Student.set_group_member at 0x7a3294e30860>, 'drop_group_member': <function Student.drop_group_member at 0x7a3294e30900>, 'not_registered_sub': <classmethod(<function Student.not_registered_sub at 0x7a3294e309a0>)>, 'get_webmail': <property object at 0x7a3294e45f80>, 'get_departement': <classmethod(<function Student.get_departement at 0x7a3294e30ae0>)>, '__dict__': <attribute '__dict__' of 'Student' objects>, '__weakref__': <attribute '__weakref__' of 'Student' objects>, '__doc__': None}\n"
     ]
    }
   ],
   "source": [
    "# ---------------- printing the class dict\n",
    "print('Class dict')\n",
    "print(Student.__dict__)"
   ]
  },
  {
   "cell_type": "code",
   "execution_count": 11,
   "metadata": {},
   "outputs": [
    {
     "name": "stdout",
     "output_type": "stream",
     "text": [
      "__module__ : main.student\n",
      "departement : Computer Engineering\n",
      "off_subjects : ['CMP1', 'ELE1', 'MAT1', 'project']\n",
      "all_students : [okiror vinald-16/U/1234, mutumba student2-16/U/1234, okello student3-16/U/1234]\n",
      "__init__ : <function Student.__init__ at 0x7a32957efec0>\n",
      "get_fullname : <property object at 0x7a32a650bec0>\n",
      "__repr__ : <function Student.__repr__ at 0x7a3294e30540>\n",
      "register_subject : <function Student.register_subject at 0x7a3294e30680>\n",
      "set_group_member : <function Student.set_group_member at 0x7a3294e30860>\n",
      "drop_group_member : <function Student.drop_group_member at 0x7a3294e30900>\n",
      "not_registered_sub : <classmethod(<function Student.not_registered_sub at 0x7a3294e309a0>)>\n",
      "get_webmail : <property object at 0x7a3294e45f80>\n",
      "get_departement : <classmethod(<function Student.get_departement at 0x7a3294e30ae0>)>\n",
      "__dict__ : <attribute '__dict__' of 'Student' objects>\n",
      "__weakref__ : <attribute '__weakref__' of 'Student' objects>\n",
      "__doc__ : None\n",
      "\n"
     ]
    }
   ],
   "source": [
    "for key, value in Student.__dict__.items():\n",
    "    print(f'{key} : {value}')\n",
    "print()"
   ]
  },
  {
   "cell_type": "code",
   "execution_count": 12,
   "metadata": {},
   "outputs": [
    {
     "name": "stdout",
     "output_type": "stream",
     "text": [
      "[okiror vinald-16/U/1234, mutumba student2-16/U/1234, okello student3-16/U/1234]\n",
      "\n"
     ]
    }
   ],
   "source": [
    "# # --------------- Using the __repr__ method\n",
    "list_students = [std1, std2, std3]\n",
    "print(list_students)\n",
    "print()"
   ]
  },
  {
   "cell_type": "code",
   "execution_count": 14,
   "metadata": {},
   "outputs": [
    {
     "name": "stdout",
     "output_type": "stream",
     "text": [
      "[okiror vinald-16/U/1234, mutumba student2-16/U/1234, okello student3-16/U/1234]\n"
     ]
    }
   ],
   "source": [
    "# -------------- printing all students created\n",
    "print(Student.all_students)"
   ]
  },
  {
   "cell_type": "code",
   "execution_count": 13,
   "metadata": {},
   "outputs": [
    {
     "name": "stdout",
     "output_type": "stream",
     "text": [
      "['CMP1']\n"
     ]
    }
   ],
   "source": [
    "# -------------- subject registeration\n",
    "std1.register_subject('MAT1', 'ELE1')\n",
    "std2.register_subject('MAT1')\n",
    "std3.register_subject('MAT1', 'ELE1')\n",
    "\n",
    "print(Student.not_registered_sub())"
   ]
  },
  {
   "cell_type": "code",
   "execution_count": 15,
   "metadata": {},
   "outputs": [
    {
     "name": "stdout",
     "output_type": "stream",
     "text": [
      "okiror vinald-16/U/1234 = mutumba student2-16/U/1234\n",
      "mutumba student2-16/U/1234 = okiror vinald-16/U/1234\n",
      "okello student3-16/U/1234 = okiror vinald-16/U/1234\n"
     ]
    }
   ],
   "source": [
    "# ------------- group member\n",
    "std1.set_group_member(std2)\n",
    "print(f'{std1} = {std1.group_member}')\n",
    "print(f'{std2} = {std2.group_member}')\n",
    "\n",
    "std1.drop_group_member(std2)\n",
    "std1.set_group_member(std3)\n",
    "print(f'{std3} = {std3.group_member}')"
   ]
  },
  {
   "cell_type": "code",
   "execution_count": 16,
   "metadata": {},
   "outputs": [],
   "source": [
    "from main.student import Undergraduate"
   ]
  },
  {
   "cell_type": "code",
   "execution_count": 17,
   "metadata": {},
   "outputs": [
    {
     "name": "stdout",
     "output_type": "stream",
     "text": [
      "okiror samuel\n",
      "okiror samuel@student.mak.ac.ug\n",
      "2\n",
      "\n"
     ]
    }
   ],
   "source": [
    "# Undergraudate class\n",
    "std2 = Undergraduate('okiror', 'samuel', '16/U/1234', 2)\n",
    "print(std2.get_fullname)\n",
    "print(std2.get_webmail)\n",
    "print(std2.get_year)\n",
    "print()"
   ]
  },
  {
   "cell_type": "code",
   "execution_count": null,
   "metadata": {},
   "outputs": [],
   "source": []
  }
 ],
 "metadata": {
  "kernelspec": {
   "display_name": "allenv",
   "language": "python",
   "name": "python3"
  },
  "language_info": {
   "codemirror_mode": {
    "name": "ipython",
    "version": 3
   },
   "file_extension": ".py",
   "mimetype": "text/x-python",
   "name": "python",
   "nbconvert_exporter": "python",
   "pygments_lexer": "ipython3",
   "version": "3.11.6"
  }
 },
 "nbformat": 4,
 "nbformat_minor": 2
}
