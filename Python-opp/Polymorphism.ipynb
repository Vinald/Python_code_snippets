{
 "cells": [
  {
   "cell_type": "markdown",
   "metadata": {},
   "source": [
    "## polymorphism\n",
    "#### Polymorphism is an ability (in OOP) to use a common interface for multiple forms (data types).\n",
    "\n",
    "## Duck typing\n",
    "#### Duck typing is a concept related to dynamic typing, where the type or the class of an object is less important than the methods it defines. When you use duck typing, you do not check types at all. Instead, you check for the presence of a given method or attribute.\n"
   ]
  },
  {
   "cell_type": "code",
   "execution_count": 1,
   "metadata": {},
   "outputs": [],
   "source": [
    "class Laptop:\n",
    "    def __init__(self, brand, model, price):\n",
    "        self.brand = brand\n",
    "        self.model = model\n",
    "        self.price = price\n",
    "\n",
    "    def get_info(self):\n",
    "        return f'{self.brand} {self.model} costs {self.price}'"
   ]
  },
  {
   "cell_type": "code",
   "execution_count": 2,
   "metadata": {},
   "outputs": [],
   "source": [
    "class Phone:\n",
    "    def __init__(self, brand, model, price):\n",
    "        self.brand = brand\n",
    "        self.model = model\n",
    "        self.price = price\n",
    "\n",
    "    def get_info(self):\n",
    "        return f'{self.brand} {self.model} costs {self.price}'"
   ]
  },
  {
   "cell_type": "code",
   "execution_count": 3,
   "metadata": {},
   "outputs": [],
   "source": [
    "laptop = Laptop('Dell', 'Inspiron', 500)\n",
    "phone = Phone('Samsung', 'Galaxy', 300)"
   ]
  },
  {
   "cell_type": "code",
   "execution_count": 4,
   "metadata": {},
   "outputs": [
    {
     "name": "stdout",
     "output_type": "stream",
     "text": [
      "Dell Inspiron costs 500\n",
      "Samsung Galaxy costs 300\n",
      "\n"
     ]
    }
   ],
   "source": [
    "for gadget in (laptop, phone):\n",
    "    print(gadget.get_info())\n",
    "print()"
   ]
  },
  {
   "cell_type": "markdown",
   "metadata": {},
   "source": [
    "## operator overloading\n",
    "#### Operator overloading is a specific case of polymorphism, where different operators have different implementations depending on their arguments."
   ]
  },
  {
   "cell_type": "code",
   "execution_count": 5,
   "metadata": {},
   "outputs": [],
   "source": [
    "class Vector:\n",
    "    def __init__(self, x, y):\n",
    "        self.x = x\n",
    "        self.y = y\n",
    "\n",
    "    def __add__(self, other):\n",
    "        return Vector(self.x + other.x, self.y + other.y)\n",
    "\n",
    "    def __str__(self):\n",
    "        return f'Vector({self.x}, {self.y})'\n",
    "    \n",
    "    def __repr__(self):\n",
    "        return f'Vector({self.x}, {self.y})'\n",
    "    "
   ]
  },
  {
   "cell_type": "code",
   "execution_count": 6,
   "metadata": {},
   "outputs": [
    {
     "name": "stdout",
     "output_type": "stream",
     "text": [
      "Vector(4, 6)\n",
      "Vector(4, 6)\n",
      "Vector(4, 6)\n"
     ]
    }
   ],
   "source": [
    "v1 = Vector(1, 2)\n",
    "v2 = Vector(3, 4)\n",
    "v3 = v1 + v2\n",
    "print(v3)\n",
    "print(repr(v3))\n",
    "print(str(v3))"
   ]
  },
  {
   "cell_type": "markdown",
   "metadata": {},
   "source": [
    "## method overloading\n",
    "#### Method overloading is a feature that allows a class to have more than one method having the same name, if their argument lists are different."
   ]
  },
  {
   "cell_type": "code",
   "execution_count": 7,
   "metadata": {},
   "outputs": [],
   "source": [
    "class Calculator:\n",
    "    def add(self, a, b, *args):\n",
    "        return a + b + sum(args)"
   ]
  },
  {
   "cell_type": "code",
   "execution_count": 8,
   "metadata": {},
   "outputs": [
    {
     "name": "stdout",
     "output_type": "stream",
     "text": [
      "3\n",
      "6\n",
      "10\n",
      "15\n",
      "21\n",
      "28\n",
      "36\n",
      "45\n",
      "\n"
     ]
    }
   ],
   "source": [
    "calc = Calculator()\n",
    "print(calc.add(1, 2))\n",
    "print(calc.add(1, 2, 3))\n",
    "print(calc.add(1, 2, 3, 4))\n",
    "print(calc.add(1, 2, 3, 4, 5))\n",
    "print(calc.add(1, 2, 3, 4, 5, 6))\n",
    "print(calc.add(1, 2, 3, 4, 5, 6, 7))\n",
    "print(calc.add(1, 2, 3, 4, 5, 6, 7, 8))\n",
    "print(calc.add(1, 2, 3, 4, 5, 6, 7, 8, 9))\n",
    "print()"
   ]
  },
  {
   "cell_type": "markdown",
   "metadata": {},
   "source": [
    "## method overriding\n",
    "#### Method overriding is a feature that allows a subclass to provide a specific implementation of a method that is already provided by its parent class."
   ]
  },
  {
   "cell_type": "code",
   "execution_count": 9,
   "metadata": {},
   "outputs": [],
   "source": [
    "class Animal:\n",
    "    def speak(self):\n",
    "        print('Animal speaks.')\n",
    "    \n",
    "\n",
    "class Dog(Animal):\n",
    "    def speak(self):\n",
    "        print('Dog barks.')"
   ]
  },
  {
   "cell_type": "code",
   "execution_count": 10,
   "metadata": {},
   "outputs": [
    {
     "name": "stdout",
     "output_type": "stream",
     "text": [
      "Dog barks.\n",
      "\n"
     ]
    }
   ],
   "source": [
    "dog = Dog()\n",
    "dog.speak()\n",
    "print()"
   ]
  },
  {
   "cell_type": "code",
   "execution_count": null,
   "metadata": {},
   "outputs": [],
   "source": []
  }
 ],
 "metadata": {
  "kernelspec": {
   "display_name": "allenv",
   "language": "python",
   "name": "python3"
  },
  "language_info": {
   "codemirror_mode": {
    "name": "ipython",
    "version": 3
   },
   "file_extension": ".py",
   "mimetype": "text/x-python",
   "name": "python",
   "nbconvert_exporter": "python",
   "pygments_lexer": "ipython3",
   "version": "3.11.6"
  }
 },
 "nbformat": 4,
 "nbformat_minor": 2
}
