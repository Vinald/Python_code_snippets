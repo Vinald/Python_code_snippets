{
 "cells": [
  {
   "cell_type": "markdown",
   "metadata": {},
   "source": [
    "### String methods"
   ]
  },
  {
   "cell_type": "code",
   "execution_count": null,
   "metadata": {},
   "outputs": [
    {
     "name": "stdout",
     "output_type": "stream",
     "text": [
      "The length of the name samuel is 6\n"
     ]
    }
   ],
   "source": [
    "name = 'samuel'\n",
    "\n",
    "print(f'The length of the name {name} is {len(name)}')"
   ]
  },
  {
   "cell_type": "code",
   "execution_count": null,
   "metadata": {},
   "outputs": [
    {
     "name": "stdout",
     "output_type": "stream",
     "text": [
      "samuel in lower case is samuel\n"
     ]
    }
   ],
   "source": [
    "print(f'{name} in lower case is {name.lower()}')"
   ]
  },
  {
   "cell_type": "code",
   "execution_count": null,
   "metadata": {},
   "outputs": [
    {
     "name": "stdout",
     "output_type": "stream",
     "text": [
      "samuel in upper case is SAMUEL\n"
     ]
    }
   ],
   "source": [
    "print(f'{name} in upper case is {name.upper()}')"
   ]
  },
  {
   "cell_type": "code",
   "execution_count": null,
   "metadata": {},
   "outputs": [
    {
     "name": "stdout",
     "output_type": "stream",
     "text": [
      "samuel in title case is Samuel\n"
     ]
    }
   ],
   "source": [
    "print(f'{name} in title case is {name.title()}')"
   ]
  },
  {
   "cell_type": "code",
   "execution_count": null,
   "metadata": {},
   "outputs": [
    {
     "name": "stdout",
     "output_type": "stream",
     "text": [
      "samuel in swapcase is SAMUEL\n"
     ]
    }
   ],
   "source": [
    "print(f'{name} in swapcase is {name.swapcase()}')"
   ]
  },
  {
   "cell_type": "code",
   "execution_count": null,
   "metadata": {},
   "outputs": [
    {
     "name": "stdout",
     "output_type": "stream",
     "text": [
      "samuel starts with s True\n"
     ]
    }
   ],
   "source": [
    "print(f'{name} starts with s {name.startswith(\"s\")}')"
   ]
  },
  {
   "cell_type": "code",
   "execution_count": null,
   "metadata": {},
   "outputs": [
    {
     "name": "stdout",
     "output_type": "stream",
     "text": [
      "samuel ends with d False\n"
     ]
    }
   ],
   "source": [
    "print(f'{name} ends with d {name.endswith(\"d\")}')"
   ]
  },
  {
   "cell_type": "code",
   "execution_count": null,
   "metadata": {},
   "outputs": [
    {
     "name": "stdout",
     "output_type": "stream",
     "text": [
      "replacing samuel with vinald\n"
     ]
    }
   ],
   "source": [
    "print(f'replacing {name} with {name.replace(name, \"vinald\")}')"
   ]
  },
  {
   "cell_type": "code",
   "execution_count": null,
   "metadata": {},
   "outputs": [
    {
     "name": "stdout",
     "output_type": "stream",
     "text": [
      "the reverse of samuel in leumas\n"
     ]
    }
   ],
   "source": [
    "print(f'the reverse of {name} in {name[::-1]}')"
   ]
  },
  {
   "cell_type": "code",
   "execution_count": null,
   "metadata": {},
   "outputs": [
    {
     "name": "stdout",
     "output_type": "stream",
     "text": [
      "John + Peter is John Peter\n"
     ]
    }
   ],
   "source": [
    "first_name = 'John'\n",
    "last_name = 'Peter'\n",
    "full_name = first_name + ' ' +last_name\n",
    "\n",
    "print(f'{first_name} + {last_name} is {full_name}')"
   ]
  },
  {
   "cell_type": "code",
   "execution_count": null,
   "metadata": {},
   "outputs": [
    {
     "name": "stdout",
     "output_type": "stream",
     "text": [
      "the list of samuel is ['samuel']\n"
     ]
    }
   ],
   "source": [
    "# string to list\n",
    "name_string = name.split(' ')\n",
    "print(f'the list of {name} is {name_string}')"
   ]
  },
  {
   "cell_type": "markdown",
   "metadata": {},
   "source": [
    "### String format"
   ]
  },
  {
   "cell_type": "code",
   "execution_count": null,
   "metadata": {},
   "outputs": [
    {
     "name": "stdout",
     "output_type": "stream",
     "text": [
      "First name John last name Peter\n"
     ]
    }
   ],
   "source": [
    "first_name = 'John'\n",
    "last_name = 'Peter'\n",
    "\n",
    "print(f'First name {first_name} last name {last_name}')"
   ]
  },
  {
   "cell_type": "code",
   "execution_count": null,
   "metadata": {},
   "outputs": [
    {
     "name": "stdout",
     "output_type": "stream",
     "text": [
      "first name John last name Peter\n"
     ]
    }
   ],
   "source": [
    "print('first name {first_name} last name {last_name}'.format(first_name=first_name, last_name=last_name))"
   ]
  },
  {
   "cell_type": "code",
   "execution_count": null,
   "metadata": {},
   "outputs": [
    {
     "name": "stdout",
     "output_type": "stream",
     "text": [
      "First name John last name Peter\n"
     ]
    }
   ],
   "source": [
    "print('First name {} last name {}'.format(first_name, last_name))"
   ]
  },
  {
   "cell_type": "code",
   "execution_count": null,
   "metadata": {},
   "outputs": [
    {
     "name": "stdout",
     "output_type": "stream",
     "text": [
      "First name Peter last name John\n"
     ]
    }
   ],
   "source": [
    "print('First name {1} last name {0}'.format(first_name, last_name))"
   ]
  },
  {
   "cell_type": "markdown",
   "metadata": {},
   "source": [
    "### Slicing"
   ]
  },
  {
   "cell_type": "code",
   "execution_count": null,
   "metadata": {},
   "outputs": [
    {
     "data": {
      "text/plain": [
       "'mue'"
      ]
     },
     "metadata": {},
     "output_type": "display_data"
    }
   ],
   "source": [
    "name = 'samuel'\n",
    "name[slice(2, -1)]"
   ]
  },
  {
   "cell_type": "code",
   "execution_count": null,
   "metadata": {},
   "outputs": [
    {
     "name": "stdout",
     "output_type": "stream",
     "text": [
      "google\n"
     ]
    }
   ],
   "source": [
    "website = 'www.google.com'\n",
    "print(website[slice(4, -4)])"
   ]
  },
  {
   "cell_type": "markdown",
   "metadata": {},
   "source": [
    "### Prefix and suffix"
   ]
  },
  {
   "cell_type": "code",
   "execution_count": null,
   "metadata": {},
   "outputs": [
    {
     "name": "stdout",
     "output_type": "stream",
     "text": [
      "schemas.open\n"
     ]
    }
   ],
   "source": [
    "name = 'https://schemas.open'\n",
    "print(name.removeprefix('https://'))"
   ]
  },
  {
   "cell_type": "code",
   "execution_count": null,
   "metadata": {},
   "outputs": [
    {
     "name": "stdout",
     "output_type": "stream",
     "text": [
      "https://schemas\n"
     ]
    }
   ],
   "source": [
    "print(name.removesuffix('.open'))"
   ]
  }
 ],
 "metadata": {
  "language_info": {
   "name": "python"
  }
 },
 "nbformat": 4,
 "nbformat_minor": 2
}
