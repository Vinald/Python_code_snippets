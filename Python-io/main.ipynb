{
 "cells": [
  {
   "cell_type": "code",
   "execution_count": 1,
   "metadata": {},
   "outputs": [],
   "source": [
    "import os\n",
    "import shutil"
   ]
  },
  {
   "cell_type": "markdown",
   "metadata": {},
   "source": [
    "### checks if the file exists"
   ]
  },
  {
   "cell_type": "code",
   "execution_count": 2,
   "metadata": {},
   "outputs": [
    {
     "name": "stdout",
     "output_type": "stream",
     "text": [
      "true, the path exists\n",
      "\n"
     ]
    }
   ],
   "source": [
    "path = '/home/vx/Desktop/github/Python'\n",
    "if os.path.exists(path):\n",
    "    print('true, the path exists')\n",
    "else:\n",
    "    print('false, the path does not exist')\n",
    "print()"
   ]
  },
  {
   "cell_type": "markdown",
   "metadata": {},
   "source": [
    "### checks if the location is a file"
   ]
  },
  {
   "cell_type": "code",
   "execution_count": null,
   "metadata": {},
   "outputs": [],
   "source": [
    "file_path = '/home/vx/Desktop/github/Python/README.md'\n",
    "if os.path.isfile(file_path):\n",
    "    print('true, the path is a file')\n",
    "else:\n",
    "    print('false, rhe path is not a file')\n",
    "print()"
   ]
  },
  {
   "cell_type": "markdown",
   "metadata": {},
   "source": [
    "### checks if the location is a directory"
   ]
  },
  {
   "cell_type": "code",
   "execution_count": null,
   "metadata": {},
   "outputs": [],
   "source": [
    "if os.path.isdir(path):\n",
    "    print('true, the path is a directory')\n",
    "else:\n",
    "    print('false, the path is not a directory')\n",
    "print()"
   ]
  },
  {
   "cell_type": "markdown",
   "metadata": {},
   "source": [
    "### open a file and closes a file automatically"
   ]
  },
  {
   "cell_type": "code",
   "execution_count": 4,
   "metadata": {},
   "outputs": [
    {
     "name": "stdout",
     "output_type": "stream",
     "text": [
      "the file does not exist\n"
     ]
    }
   ],
   "source": [
    "file_path_open = '/home/vx/Desktop/github/Python/3_Advanced/name.txt'\n",
    "try:\n",
    "    with open(file_path_open) as file:\n",
    "        print(file.read())\n",
    "except FileNotFoundError:\n",
    "    print('the file does not exist')"
   ]
  },
  {
   "cell_type": "markdown",
   "metadata": {},
   "source": [
    "### check if the file is closed"
   ]
  },
  {
   "cell_type": "code",
   "execution_count": null,
   "metadata": {},
   "outputs": [],
   "source": [
    "print(file.closed)"
   ]
  },
  {
   "cell_type": "markdown",
   "metadata": {},
   "source": [
    "### append the text"
   ]
  },
  {
   "cell_type": "code",
   "execution_count": null,
   "metadata": {},
   "outputs": [],
   "source": [
    "text = '\\nadding text into my file\\n have a nice lesson'\n",
    "with open(file_path_open, 'a') as file:\n",
    "    file.write(text)"
   ]
  },
  {
   "cell_type": "markdown",
   "metadata": {},
   "source": [
    "### overwrites the text"
   ]
  },
  {
   "cell_type": "code",
   "execution_count": null,
   "metadata": {},
   "outputs": [],
   "source": [
    "text = '\\noverwriting the text in the file'\n",
    "with open(file_path_open, 'w') as file:\n",
    "    file.write(text)"
   ]
  },
  {
   "cell_type": "markdown",
   "metadata": {},
   "source": [
    "### copy files"
   ]
  },
  {
   "cell_type": "code",
   "execution_count": null,
   "metadata": {},
   "outputs": [],
   "source": [
    "source = '/home/vx/Desktop/Learning/Python/Advanced_Python_Programming/text.txt'\n",
    "destination = '/home/vx/Desktop/Learning/Python/Advanced_Python_Programming/text_copy.txt'\n",
    "try:\n",
    "    if os.path.exists(destination):\n",
    "        print('the file exists')\n",
    "    else:\n",
    "        shutil.copy(source, destination)\n",
    "except FileNotFoundError:\n",
    "    print('the file does not exist')"
   ]
  },
  {
   "cell_type": "markdown",
   "metadata": {},
   "source": [
    "### Move files"
   ]
  },
  {
   "cell_type": "code",
   "execution_count": null,
   "metadata": {},
   "outputs": [],
   "source": [
    "source = '/home/vx/Desktop/Learning/Python/Advanced_Python_Programming/text.txt'\n",
    "destination = '/home/vx/Desktop/Learning/Python/Advanced_Python_Programming/folder1/text.txt' \n",
    "try:\n",
    "    if os.path.exists(destination):\n",
    "        print('the file exists')\n",
    "    else:\n",
    "        os.replace(source, destination)\n",
    "except FileNotFoundError:\n",
    "    print('the file does not exist')"
   ]
  },
  {
   "cell_type": "markdown",
   "metadata": {},
   "source": [
    "### remove files"
   ]
  },
  {
   "cell_type": "code",
   "execution_count": null,
   "metadata": {},
   "outputs": [],
   "source": [
    "path = '/home/vx/Desktop/Learning/Python/Advanced_Python_Programming/text_copy.txt'\n",
    "os.remove(path)\n",
    "print('file removed')"
   ]
  },
  {
   "cell_type": "markdown",
   "metadata": {},
   "source": [
    "### remove directories"
   ]
  },
  {
   "cell_type": "code",
   "execution_count": null,
   "metadata": {},
   "outputs": [],
   "source": [
    "path = '/home/vx/Desktop/Learning/Python/Advanced_Python_Programming/folder1'\n",
    "os.rmdir(path)\n",
    "print('directory removed')\n"
   ]
  },
  {
   "cell_type": "markdown",
   "metadata": {},
   "source": [
    "# Adding names to a file CS50 class"
   ]
  },
  {
   "cell_type": "code",
   "execution_count": 3,
   "metadata": {},
   "outputs": [],
   "source": [
    "name = input(\"What is your name?\")\n",
    "\n",
    "file = open('name.txt', 'w')\n",
    "file.write(name)\n",
    "file.close()"
   ]
  },
  {
   "cell_type": "code",
   "execution_count": 6,
   "metadata": {},
   "outputs": [],
   "source": [
    "name = input(\"What is your name?\")\n",
    "\n",
    "file = open('name.txt', 'a')\n",
    "file.write(f'{name}\\n')\n",
    "file.close()"
   ]
  },
  {
   "cell_type": "code",
   "execution_count": 8,
   "metadata": {},
   "outputs": [],
   "source": [
    "name = input(\"What is your name?\")\n",
    "\n",
    "with open('name.txt', 'a') as file:\n",
    "    file.write(f'{name}\\n')"
   ]
  },
  {
   "cell_type": "code",
   "execution_count": 9,
   "metadata": {},
   "outputs": [
    {
     "name": "stdout",
     "output_type": "stream",
     "text": [
      "Hello peter\n",
      "Hello david\n",
      "Hello samuel\n"
     ]
    }
   ],
   "source": [
    "with open('name.txt', 'r') as file:\n",
    "    for line in file:\n",
    "        print(f'Hello {line.strip()}')"
   ]
  },
  {
   "cell_type": "code",
   "execution_count": 3,
   "metadata": {},
   "outputs": [
    {
     "name": "stdout",
     "output_type": "stream",
     "text": [
      "Hello david\n",
      "Hello peter\n",
      "Hello samuel\n"
     ]
    }
   ],
   "source": [
    "names = []\n",
    "\n",
    "with open('name.txt') as file:\n",
    "    for line in file:\n",
    "        names.append(line.rstrip())\n",
    "\n",
    "for name in sorted(names):\n",
    "    print(f'Hello {name.strip()}')"
   ]
  },
  {
   "cell_type": "code",
   "execution_count": 5,
   "metadata": {},
   "outputs": [],
   "source": [
    "name = input(\"What is your name?\")\n",
    "age = int(input('How old are you?'))\n",
    "\n",
    "with open('name.csv', 'a') as file:\n",
    "    file.write(f'{name},{age}\\n')"
   ]
  },
  {
   "cell_type": "code",
   "execution_count": 6,
   "metadata": {},
   "outputs": [
    {
     "name": "stdout",
     "output_type": "stream",
     "text": [
      "Name ------ age\n",
      "samuel ------ 24\n",
      "Joy ------ 23\n",
      "peter ------ 15\n",
      "\"John Petter\" ------ 12\n",
      "John peter ------ 12\n"
     ]
    }
   ],
   "source": [
    "print('Name ------ age')\n",
    "\n",
    "with open('name.csv') as file:\n",
    "    for line in file:\n",
    "        name, age = line.rstrip().split(',')\n",
    "        print(f'{name} ------ {age}')"
   ]
  },
  {
   "cell_type": "code",
   "execution_count": 7,
   "metadata": {},
   "outputs": [],
   "source": [
    "students = []\n",
    "\n",
    "with open('name.csv') as file:\n",
    "    for line in file:\n",
    "        name, age = line.rstrip().split(',')\n",
    "        student = {}\n",
    "        student['name'] = name\n",
    "        student['age'] = age\n",
    "        students.append(student)\n",
    "\n",
    "students"
   ]
  },
  {
   "cell_type": "code",
   "execution_count": 10,
   "metadata": {},
   "outputs": [
    {
     "data": {
      "text/plain": [
       "[{'name': 'samuel', 'age': '24'},\n",
       " {'name': 'Joy', 'age': '23'},\n",
       " {'name': 'peter', 'age': '15'},\n",
       " {'name': 'John peter', 'age': '12'},\n",
       " {'name': 'williams', 'age': '10'},\n",
       " {'name': 'ronnie', 'age': '9'}]"
      ]
     },
     "execution_count": 10,
     "metadata": {},
     "output_type": "execute_result"
    }
   ],
   "source": [
    "# using csv module\n",
    "import csv\n",
    "\n",
    "students = []\n",
    "\n",
    "with open('name.csv') as file:\n",
    "    reader = csv.reader(file)\n",
    "    for name, age in reader:\n",
    "        student = {}\n",
    "        student['name'] = name\n",
    "        student['age'] = age\n",
    "        students.append(student)\n",
    "\n",
    "students"
   ]
  },
  {
   "cell_type": "code",
   "execution_count": 11,
   "metadata": {},
   "outputs": [
    {
     "data": {
      "text/plain": [
       "[{'name': 'samuel', 'age': '24'},\n",
       " {'name': 'Joy', 'age': '23'},\n",
       " {'name': 'peter', 'age': '15'},\n",
       " {'name': 'John peter', 'age': '12'},\n",
       " {'name': 'williams', 'age': '10'},\n",
       " {'name': 'ronnie', 'age': '9'}]"
      ]
     },
     "execution_count": 11,
     "metadata": {},
     "output_type": "execute_result"
    }
   ],
   "source": [
    "# using dictreader\n",
    "students = []\n",
    "\n",
    "with open('name.csv') as file:\n",
    "    reader = csv.DictReader(file)\n",
    "    for row in reader:\n",
    "        students.append(row)\n",
    "\n",
    "students"
   ]
  },
  {
   "cell_type": "code",
   "execution_count": 13,
   "metadata": {},
   "outputs": [
    {
     "name": "stdout",
     "output_type": "stream",
     "text": [
      "Name ------ age ------ class\n"
     ]
    }
   ],
   "source": [
    "name = input(\"What is your name?\")\n",
    "age = int(input('How old are you?'))\n",
    "classes = input('What class are you in?')\n",
    "\n",
    "with open('students.csv', 'a') as file:\n",
    "    writer = csv.writer(file)\n",
    "    writer.writerow([name, age, classes])"
   ]
  },
  {
   "cell_type": "code",
   "execution_count": 14,
   "metadata": {},
   "outputs": [],
   "source": [
    "# using a dictwriter\n",
    "name = input(\"What is your name?\")\n",
    "age = int(input('How old are you?'))\n",
    "classes = input('What class are you in?')\n",
    "\n",
    "with open('students.csv', 'a') as file:\n",
    "    headers = ['name', 'age', 'class']\n",
    "    writer = csv.DictWriter(file, fieldnames=headers)\n",
    "    writer.writerow({'name': name, 'age': age, 'class': classes})"
   ]
  },
  {
   "cell_type": "code",
   "execution_count": null,
   "metadata": {},
   "outputs": [],
   "source": []
  }
 ],
 "metadata": {
  "kernelspec": {
   "display_name": "allenv",
   "language": "python",
   "name": "python3"
  },
  "language_info": {
   "codemirror_mode": {
    "name": "ipython",
    "version": 3
   },
   "file_extension": ".py",
   "mimetype": "text/x-python",
   "name": "python",
   "nbconvert_exporter": "python",
   "pygments_lexer": "ipython3",
   "version": "3.11.6"
  }
 },
 "nbformat": 4,
 "nbformat_minor": 2
}
